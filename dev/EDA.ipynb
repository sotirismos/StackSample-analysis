{
 "cells": [
  {
   "cell_type": "code",
   "execution_count": 1,
   "id": "21fdc6b8",
   "metadata": {},
   "outputs": [],
   "source": [
    "import os\n",
    "\n",
    "project_dir = os.getcwd()\n",
    "data_dir = os.path.join(project_dir, \"data\")"
   ]
  },
  {
   "cell_type": "code",
   "execution_count": 2,
   "id": "2c93abb7",
   "metadata": {},
   "outputs": [],
   "source": [
    "import numpy as np\n",
    "import pandas as pd\n",
    "import matplotlib.pyplot as plt\n",
    "import seaborn as sns"
   ]
  },
  {
   "cell_type": "markdown",
   "id": "7f7105e5",
   "metadata": {},
   "source": [
    "### Questions"
   ]
  },
  {
   "cell_type": "code",
   "execution_count": 3,
   "id": "3d79c9b8",
   "metadata": {},
   "outputs": [],
   "source": [
    "questions_df = pd.read_csv(os.path.join(data_dir, \"Questions.csv\"), encoding=\"ISO-8859-1\")"
   ]
  },
  {
   "cell_type": "markdown",
   "id": "3ee31cef",
   "metadata": {},
   "source": [
    "#### Remove duplicates"
   ]
  },
  {
   "cell_type": "code",
   "execution_count": 4,
   "id": "cec94741",
   "metadata": {},
   "outputs": [],
   "source": [
    "questions_df = questions_df.drop_duplicates()"
   ]
  },
  {
   "cell_type": "code",
   "execution_count": 5,
   "id": "5ad500c4",
   "metadata": {
    "scrolled": false
   },
   "outputs": [
    {
     "name": "stdout",
     "output_type": "stream",
     "text": [
      "Number of rows: 1264216\n",
      "Number of columns: 7\n"
     ]
    }
   ],
   "source": [
    "print(f\"Number of rows: {questions_df.shape[0]}\")\n",
    "print(f\"Number of columns: {questions_df.shape[1]}\")"
   ]
  },
  {
   "cell_type": "code",
   "execution_count": 6,
   "id": "9f8a52ff",
   "metadata": {},
   "outputs": [
    {
     "data": {
      "text/html": [
       "<div>\n",
       "<style scoped>\n",
       "    .dataframe tbody tr th:only-of-type {\n",
       "        vertical-align: middle;\n",
       "    }\n",
       "\n",
       "    .dataframe tbody tr th {\n",
       "        vertical-align: top;\n",
       "    }\n",
       "\n",
       "    .dataframe thead th {\n",
       "        text-align: right;\n",
       "    }\n",
       "</style>\n",
       "<table border=\"1\" class=\"dataframe\">\n",
       "  <thead>\n",
       "    <tr style=\"text-align: right;\">\n",
       "      <th></th>\n",
       "      <th>Id</th>\n",
       "      <th>OwnerUserId</th>\n",
       "      <th>CreationDate</th>\n",
       "      <th>ClosedDate</th>\n",
       "      <th>Score</th>\n",
       "      <th>Title</th>\n",
       "      <th>Body</th>\n",
       "    </tr>\n",
       "  </thead>\n",
       "  <tbody>\n",
       "    <tr>\n",
       "      <th>0</th>\n",
       "      <td>80</td>\n",
       "      <td>26.0</td>\n",
       "      <td>2008-08-01T13:57:07Z</td>\n",
       "      <td>NaN</td>\n",
       "      <td>26</td>\n",
       "      <td>SQLStatement.execute() - multiple queries in o...</td>\n",
       "      <td>&lt;p&gt;I've written a database generation script i...</td>\n",
       "    </tr>\n",
       "    <tr>\n",
       "      <th>1</th>\n",
       "      <td>90</td>\n",
       "      <td>58.0</td>\n",
       "      <td>2008-08-01T14:41:24Z</td>\n",
       "      <td>2012-12-26T03:45:49Z</td>\n",
       "      <td>144</td>\n",
       "      <td>Good branching and merging tutorials for Torto...</td>\n",
       "      <td>&lt;p&gt;Are there any really good tutorials explain...</td>\n",
       "    </tr>\n",
       "    <tr>\n",
       "      <th>2</th>\n",
       "      <td>120</td>\n",
       "      <td>83.0</td>\n",
       "      <td>2008-08-01T15:50:08Z</td>\n",
       "      <td>NaN</td>\n",
       "      <td>21</td>\n",
       "      <td>ASP.NET Site Maps</td>\n",
       "      <td>&lt;p&gt;Has anyone got experience creating &lt;strong&gt;...</td>\n",
       "    </tr>\n",
       "    <tr>\n",
       "      <th>3</th>\n",
       "      <td>180</td>\n",
       "      <td>2089740.0</td>\n",
       "      <td>2008-08-01T18:42:19Z</td>\n",
       "      <td>NaN</td>\n",
       "      <td>53</td>\n",
       "      <td>Function for creating color wheels</td>\n",
       "      <td>&lt;p&gt;This is something I've pseudo-solved many t...</td>\n",
       "    </tr>\n",
       "    <tr>\n",
       "      <th>4</th>\n",
       "      <td>260</td>\n",
       "      <td>91.0</td>\n",
       "      <td>2008-08-01T23:22:08Z</td>\n",
       "      <td>NaN</td>\n",
       "      <td>49</td>\n",
       "      <td>Adding scripting functionality to .NET applica...</td>\n",
       "      <td>&lt;p&gt;I have a little game written in C#. It uses...</td>\n",
       "    </tr>\n",
       "  </tbody>\n",
       "</table>\n",
       "</div>"
      ],
      "text/plain": [
       "    Id  OwnerUserId          CreationDate            ClosedDate  Score  \\\n",
       "0   80         26.0  2008-08-01T13:57:07Z                   NaN     26   \n",
       "1   90         58.0  2008-08-01T14:41:24Z  2012-12-26T03:45:49Z    144   \n",
       "2  120         83.0  2008-08-01T15:50:08Z                   NaN     21   \n",
       "3  180    2089740.0  2008-08-01T18:42:19Z                   NaN     53   \n",
       "4  260         91.0  2008-08-01T23:22:08Z                   NaN     49   \n",
       "\n",
       "                                               Title  \\\n",
       "0  SQLStatement.execute() - multiple queries in o...   \n",
       "1  Good branching and merging tutorials for Torto...   \n",
       "2                                  ASP.NET Site Maps   \n",
       "3                 Function for creating color wheels   \n",
       "4  Adding scripting functionality to .NET applica...   \n",
       "\n",
       "                                                Body  \n",
       "0  <p>I've written a database generation script i...  \n",
       "1  <p>Are there any really good tutorials explain...  \n",
       "2  <p>Has anyone got experience creating <strong>...  \n",
       "3  <p>This is something I've pseudo-solved many t...  \n",
       "4  <p>I have a little game written in C#. It uses...  "
      ]
     },
     "execution_count": 6,
     "metadata": {},
     "output_type": "execute_result"
    }
   ],
   "source": [
    "questions_df.head()"
   ]
  },
  {
   "cell_type": "markdown",
   "id": "30de8406",
   "metadata": {},
   "source": [
    "Title is in plain text, while Body is in HTML format"
   ]
  },
  {
   "cell_type": "markdown",
   "id": "8a6abf5c",
   "metadata": {},
   "source": [
    "### Tags"
   ]
  },
  {
   "cell_type": "code",
   "execution_count": 7,
   "id": "3f11f5ac",
   "metadata": {},
   "outputs": [],
   "source": [
    "tags_df = pd.read_csv(os.path.join(data_dir, \"Tags.csv\"), encoding=\"ISO-8859-1\")"
   ]
  },
  {
   "cell_type": "markdown",
   "id": "b97f1386",
   "metadata": {},
   "source": [
    "#### Remove duplicates"
   ]
  },
  {
   "cell_type": "code",
   "execution_count": 8,
   "id": "e1f87fda",
   "metadata": {},
   "outputs": [],
   "source": [
    "tags_df = tags_df.drop_duplicates()"
   ]
  },
  {
   "cell_type": "code",
   "execution_count": 9,
   "id": "28815229",
   "metadata": {},
   "outputs": [
    {
     "name": "stdout",
     "output_type": "stream",
     "text": [
      "Number of rows: 3750993\n",
      "Number of columns: 2\n"
     ]
    }
   ],
   "source": [
    "print(f\"Number of rows: {tags_df.shape[0]}\")\n",
    "print(f\"Number of columns: {tags_df.shape[1]}\")"
   ]
  },
  {
   "cell_type": "code",
   "execution_count": 10,
   "id": "1fb3167a",
   "metadata": {},
   "outputs": [
    {
     "data": {
      "text/html": [
       "<div>\n",
       "<style scoped>\n",
       "    .dataframe tbody tr th:only-of-type {\n",
       "        vertical-align: middle;\n",
       "    }\n",
       "\n",
       "    .dataframe tbody tr th {\n",
       "        vertical-align: top;\n",
       "    }\n",
       "\n",
       "    .dataframe thead th {\n",
       "        text-align: right;\n",
       "    }\n",
       "</style>\n",
       "<table border=\"1\" class=\"dataframe\">\n",
       "  <thead>\n",
       "    <tr style=\"text-align: right;\">\n",
       "      <th></th>\n",
       "      <th>Id</th>\n",
       "      <th>Tag</th>\n",
       "    </tr>\n",
       "  </thead>\n",
       "  <tbody>\n",
       "    <tr>\n",
       "      <th>0</th>\n",
       "      <td>80</td>\n",
       "      <td>flex</td>\n",
       "    </tr>\n",
       "    <tr>\n",
       "      <th>1</th>\n",
       "      <td>80</td>\n",
       "      <td>actionscript-3</td>\n",
       "    </tr>\n",
       "    <tr>\n",
       "      <th>2</th>\n",
       "      <td>80</td>\n",
       "      <td>air</td>\n",
       "    </tr>\n",
       "    <tr>\n",
       "      <th>3</th>\n",
       "      <td>90</td>\n",
       "      <td>svn</td>\n",
       "    </tr>\n",
       "    <tr>\n",
       "      <th>4</th>\n",
       "      <td>90</td>\n",
       "      <td>tortoisesvn</td>\n",
       "    </tr>\n",
       "  </tbody>\n",
       "</table>\n",
       "</div>"
      ],
      "text/plain": [
       "   Id             Tag\n",
       "0  80            flex\n",
       "1  80  actionscript-3\n",
       "2  80             air\n",
       "3  90             svn\n",
       "4  90     tortoisesvn"
      ]
     },
     "execution_count": 10,
     "metadata": {},
     "output_type": "execute_result"
    }
   ],
   "source": [
    "tags_df.head()"
   ]
  },
  {
   "cell_type": "markdown",
   "id": "12e7e033",
   "metadata": {},
   "source": [
    "### Tag analysis"
   ]
  },
  {
   "cell_type": "code",
   "execution_count": 11,
   "id": "1cb460c9",
   "metadata": {},
   "outputs": [],
   "source": [
    "tag_value_counts = tags_df[\"Tag\"].value_counts()"
   ]
  },
  {
   "cell_type": "markdown",
   "id": "f3c8e995",
   "metadata": {},
   "source": [
    "#### Top 10 tags with most questions"
   ]
  },
  {
   "cell_type": "code",
   "execution_count": 12,
   "id": "6eacff57",
   "metadata": {},
   "outputs": [
    {
     "data": {
      "text/plain": [
       "Tag\n",
       "javascript    124155\n",
       "java          115212\n",
       "c#            101186\n",
       "php            98808\n",
       "android        90659\n",
       "jquery         78542\n",
       "python         64601\n",
       "html           58976\n",
       "c++            47591\n",
       "ios            47009\n",
       "Name: count, dtype: int64"
      ]
     },
     "execution_count": 12,
     "metadata": {},
     "output_type": "execute_result"
    }
   ],
   "source": [
    "top_ten_tags = tag_value_counts.head(10)\n",
    "top_ten_tags"
   ]
  },
  {
   "cell_type": "code",
   "execution_count": 13,
   "id": "0c107a1f",
   "metadata": {},
   "outputs": [
    {
     "data": {
      "text/plain": [
       "(array([0, 1, 2, 3, 4, 5, 6, 7, 8, 9]),\n",
       " [Text(0, 0, 'javascript'),\n",
       "  Text(1, 0, 'java'),\n",
       "  Text(2, 0, 'c#'),\n",
       "  Text(3, 0, 'php'),\n",
       "  Text(4, 0, 'android'),\n",
       "  Text(5, 0, 'jquery'),\n",
       "  Text(6, 0, 'python'),\n",
       "  Text(7, 0, 'html'),\n",
       "  Text(8, 0, 'c++'),\n",
       "  Text(9, 0, 'ios')])"
      ]
     },
     "execution_count": 13,
     "metadata": {},
     "output_type": "execute_result"
    },
    {
     "data": {
      "image/png": "[encoded data removed]",
      "text/plain": [
       "<Figure size 432x288 with 1 Axes>"
      ]
     },
     "metadata": {
      "needs_background": "light"
     },
     "output_type": "display_data"
    }
   ],
   "source": [
    "sns.barplot(x=top_ten_tags.index, y=top_ten_tags.values)\n",
    "plt.xticks(rotation=40)"
   ]
  },
  {
   "cell_type": "markdown",
   "id": "41749407",
   "metadata": {},
   "source": [
    "#### Top 50 tags with most questions"
   ]
  },
  {
   "cell_type": "code",
   "execution_count": 14,
   "id": "c0d9dad8",
   "metadata": {},
   "outputs": [
    {
     "data": {
      "text/plain": [
       "Tag\n",
       "javascript        124155\n",
       "java              115212\n",
       "c#                101186\n",
       "php                98808\n",
       "android            90659\n",
       "jquery             78542\n",
       "python             64601\n",
       "html               58976\n",
       "c++                47591\n",
       "ios                47009\n",
       "mysql              42464\n",
       "css                42308\n",
       "sql                35782\n",
       "asp.net            29970\n",
       "objective-c        26922\n",
       "ruby-on-rails      25789\n",
       ".net               24059\n",
       "c                  23238\n",
       "iphone             21539\n",
       "angularjs          20345\n",
       "arrays             19799\n",
       "sql-server         18160\n",
       "json               17669\n",
       "ruby               17013\n",
       "r                  15701\n",
       "ajax               15629\n",
       "regex              15349\n",
       "xml                14763\n",
       "node.js            14525\n",
       "asp.net-mvc        14284\n",
       "linux              13395\n",
       "django             12818\n",
       "wpf                12365\n",
       "database           11860\n",
       "swift              11832\n",
       "xcode              10633\n",
       "string             10427\n",
       "excel              10384\n",
       "vb.net             10286\n",
       "windows            10142\n",
       "spring              9935\n",
       "wordpress           9913\n",
       "eclipse             9895\n",
       "html5               9564\n",
       "multithreading      9006\n",
       "oracle              7645\n",
       "git                 7626\n",
       "facebook            7598\n",
       "forms               7588\n",
       "bash                7484\n",
       "Name: count, dtype: int64"
      ]
     },
     "execution_count": 14,
     "metadata": {},
     "output_type": "execute_result"
    }
   ],
   "source": [
    "top_fifty_tags = tag_value_counts.head(50)\n",
    "top_fifty_tags"
   ]
  },
  {
   "cell_type": "code",
   "execution_count": 15,
   "id": "2289b733",
   "metadata": {},
   "outputs": [
    {
     "data": {
      "text/plain": [
       "<AxesSubplot:xlabel='Tag'>"
      ]
     },
     "execution_count": 15,
     "metadata": {},
     "output_type": "execute_result"
    },
    {
     "data": {
      "image/png": "[encoded data removed]",
      "text/plain": [
       "<Figure size 432x288 with 1 Axes>"
      ]
     },
     "metadata": {
      "needs_background": "light"
     },
     "output_type": "display_data"
    }
   ],
   "source": [
    "top_fifty_tags_barplot = sns.barplot(x=top_fifty_tags.index, y=top_fifty_tags.values)\n",
    "for i, label in enumerate(top_fifty_tags_barplot.xaxis.get_ticklabels()):\n",
    "    if i % 5 != 0:\n",
    "        label.set_visible(False)\n",
    "plt.xticks(rotation=40)\n",
    "top_fifty_tags_barplot"
   ]
  },
  {
   "cell_type": "code",
   "execution_count": 18,
   "id": "9379d556",
   "metadata": {},
   "outputs": [
    {
     "data": {
      "text/plain": [
       "Tag\n",
       "javascript        3.31%\n",
       "java              6.38%\n",
       "c#                9.08%\n",
       "php              11.72%\n",
       "android          14.13%\n",
       "jquery           16.23%\n",
       "python           17.95%\n",
       "html             19.52%\n",
       "c++              20.79%\n",
       "ios              22.05%\n",
       "mysql            23.18%\n",
       "css              24.31%\n",
       "sql              25.26%\n",
       "asp.net          26.06%\n",
       "objective-c      26.78%\n",
       "ruby-on-rails    27.47%\n",
       ".net             28.11%\n",
       "c                28.73%\n",
       "iphone           29.30%\n",
       "angularjs        29.85%\n",
       "arrays           30.37%\n",
       "sql-server       30.86%\n",
       "json             31.33%\n",
       "ruby             31.78%\n",
       "r                32.20%\n",
       "ajax             32.62%\n",
       "regex            33.03%\n",
       "xml              33.42%\n",
       "node.js          33.81%\n",
       "asp.net-mvc      34.19%\n",
       "linux            34.55%\n",
       "django           34.89%\n",
       "wpf              35.22%\n",
       "database         35.53%\n",
       "swift            35.85%\n",
       "xcode            36.13%\n",
       "string           36.41%\n",
       "excel            36.69%\n",
       "vb.net           36.96%\n",
       "windows          37.23%\n",
       "spring           37.50%\n",
       "wordpress        37.76%\n",
       "eclipse          38.03%\n",
       "html5            38.28%\n",
       "multithreading   38.52%\n",
       "oracle           38.73%\n",
       "git              38.93%\n",
       "facebook         39.13%\n",
       "forms            39.33%\n",
       "bash             39.53%\n",
       "Name: count, dtype: float64"
      ]
     },
     "execution_count": 18,
     "metadata": {},
     "output_type": "execute_result"
    }
   ],
   "source": [
    "pd.options.display.float_format = \"{:.2f}%\".format\n",
    "100 * tag_value_counts.head(50).cumsum() / tag_value_counts.sum()"
   ]
  },
  {
   "cell_type": "markdown",
   "id": "a6dca8cd",
   "metadata": {},
   "source": [
    "The top 4000 tags cover almost 90% of the questions in the dataset.\n",
    "The top 50 tags cover almost 40% of the questions in the dataset."
   ]
  },
  {
   "cell_type": "markdown",
   "id": "33a5a96c",
   "metadata": {},
   "source": [
    "#### Joining Questions with Tags"
   ]
  },
  {
   "cell_type": "code",
   "execution_count": 19,
   "id": "896d588a",
   "metadata": {},
   "outputs": [],
   "source": [
    "# standardize column names\n",
    "for df in [questions_df, tags_df]:\n",
    "    df.columns = df.columns.str.lower()"
   ]
  },
  {
   "cell_type": "code",
   "execution_count": 20,
   "id": "4faf613a",
   "metadata": {},
   "outputs": [],
   "source": [
    "# group rows per question id\n",
    "tags_per_question_df = tags_df.groupby(['id'])['tag'].apply(list)"
   ]
  },
  {
   "cell_type": "code",
   "execution_count": 21,
   "id": "b4988026",
   "metadata": {},
   "outputs": [
    {
     "data": {
      "text/plain": [
       "id\n",
       "80                           [flex, actionscript-3, air]\n",
       "90     [svn, tortoisesvn, branch, branching-and-merging]\n",
       "120                              [sql, asp.net, sitemap]\n",
       "180    [algorithm, language-agnostic, colors, color-s...\n",
       "260         [c#, .net, scripting, compiler-construction]\n",
       "Name: tag, dtype: object"
      ]
     },
     "execution_count": 21,
     "metadata": {},
     "output_type": "execute_result"
    }
   ],
   "source": [
    "tags_per_question_df.head()"
   ]
  },
  {
   "cell_type": "code",
   "execution_count": 22,
   "id": "63aa4589",
   "metadata": {},
   "outputs": [],
   "source": [
    "# we are only interested in text column(s) from `questions_df`\n",
    "df = questions_df[[\"id\", \"title\", \"body\"]].merge(tags_per_question_df.to_frame(), on=\"id\")"
   ]
  },
  {
   "cell_type": "code",
   "execution_count": 23,
   "id": "8630bee9",
   "metadata": {},
   "outputs": [],
   "source": [
    "df[\"tag_count\"] = df[\"tag\"].apply(len)"
   ]
  },
  {
   "cell_type": "code",
   "execution_count": 24,
   "id": "c9bec5a6",
   "metadata": {},
   "outputs": [
    {
     "data": {
      "text/html": [
       "<div>\n",
       "<style scoped>\n",
       "    .dataframe tbody tr th:only-of-type {\n",
       "        vertical-align: middle;\n",
       "    }\n",
       "\n",
       "    .dataframe tbody tr th {\n",
       "        vertical-align: top;\n",
       "    }\n",
       "\n",
       "    .dataframe thead th {\n",
       "        text-align: right;\n",
       "    }\n",
       "</style>\n",
       "<table border=\"1\" class=\"dataframe\">\n",
       "  <thead>\n",
       "    <tr style=\"text-align: right;\">\n",
       "      <th></th>\n",
       "      <th>id</th>\n",
       "      <th>title</th>\n",
       "      <th>body</th>\n",
       "      <th>tag</th>\n",
       "      <th>tag_count</th>\n",
       "    </tr>\n",
       "  </thead>\n",
       "  <tbody>\n",
       "    <tr>\n",
       "      <th>0</th>\n",
       "      <td>80</td>\n",
       "      <td>SQLStatement.execute() - multiple queries in o...</td>\n",
       "      <td>&lt;p&gt;I've written a database generation script i...</td>\n",
       "      <td>[flex, actionscript-3, air]</td>\n",
       "      <td>3</td>\n",
       "    </tr>\n",
       "    <tr>\n",
       "      <th>1</th>\n",
       "      <td>90</td>\n",
       "      <td>Good branching and merging tutorials for Torto...</td>\n",
       "      <td>&lt;p&gt;Are there any really good tutorials explain...</td>\n",
       "      <td>[svn, tortoisesvn, branch, branching-and-merging]</td>\n",
       "      <td>4</td>\n",
       "    </tr>\n",
       "    <tr>\n",
       "      <th>2</th>\n",
       "      <td>120</td>\n",
       "      <td>ASP.NET Site Maps</td>\n",
       "      <td>&lt;p&gt;Has anyone got experience creating &lt;strong&gt;...</td>\n",
       "      <td>[sql, asp.net, sitemap]</td>\n",
       "      <td>3</td>\n",
       "    </tr>\n",
       "    <tr>\n",
       "      <th>3</th>\n",
       "      <td>180</td>\n",
       "      <td>Function for creating color wheels</td>\n",
       "      <td>&lt;p&gt;This is something I've pseudo-solved many t...</td>\n",
       "      <td>[algorithm, language-agnostic, colors, color-s...</td>\n",
       "      <td>4</td>\n",
       "    </tr>\n",
       "    <tr>\n",
       "      <th>4</th>\n",
       "      <td>260</td>\n",
       "      <td>Adding scripting functionality to .NET applica...</td>\n",
       "      <td>&lt;p&gt;I have a little game written in C#. It uses...</td>\n",
       "      <td>[c#, .net, scripting, compiler-construction]</td>\n",
       "      <td>4</td>\n",
       "    </tr>\n",
       "  </tbody>\n",
       "</table>\n",
       "</div>"
      ],
      "text/plain": [
       "    id                                              title  \\\n",
       "0   80  SQLStatement.execute() - multiple queries in o...   \n",
       "1   90  Good branching and merging tutorials for Torto...   \n",
       "2  120                                  ASP.NET Site Maps   \n",
       "3  180                 Function for creating color wheels   \n",
       "4  260  Adding scripting functionality to .NET applica...   \n",
       "\n",
       "                                                body  \\\n",
       "0  <p>I've written a database generation script i...   \n",
       "1  <p>Are there any really good tutorials explain...   \n",
       "2  <p>Has anyone got experience creating <strong>...   \n",
       "3  <p>This is something I've pseudo-solved many t...   \n",
       "4  <p>I have a little game written in C#. It uses...   \n",
       "\n",
       "                                                 tag  tag_count  \n",
       "0                        [flex, actionscript-3, air]          3  \n",
       "1  [svn, tortoisesvn, branch, branching-and-merging]          4  \n",
       "2                            [sql, asp.net, sitemap]          3  \n",
       "3  [algorithm, language-agnostic, colors, color-s...          4  \n",
       "4       [c#, .net, scripting, compiler-construction]          4  "
      ]
     },
     "execution_count": 24,
     "metadata": {},
     "output_type": "execute_result"
    }
   ],
   "source": [
    "df.head()"
   ]
  },
  {
   "cell_type": "markdown",
   "id": "1640d3f4",
   "metadata": {},
   "source": [
    "#### Minimum, maximum and average tags per question"
   ]
  },
  {
   "cell_type": "code",
   "execution_count": 25,
   "id": "be52b630",
   "metadata": {},
   "outputs": [],
   "source": [
    "min_tag_count = df[\"tag_count\"].min()\n",
    "max_tag_count = df[\"tag_count\"].max()\n",
    "avg_tag_count = df[\"tag_count\"].mean()"
   ]
  },
  {
   "cell_type": "code",
   "execution_count": 26,
   "id": "9b3ba57e",
   "metadata": {},
   "outputs": [
    {
     "name": "stdout",
     "output_type": "stream",
     "text": [
      "Each question has a minimum of 1 tag and a maximum of 5 tags. The average number of tags per question is 2.97.\n"
     ]
    }
   ],
   "source": [
    "print(f\"Each question has a minimum of {min_tag_count} tag and a maximum of {max_tag_count} tags. \\\n",
    "The average number of tags per question is {avg_tag_count:.2f}.\")"
   ]
  },
  {
   "cell_type": "markdown",
   "id": "2fb697e0",
   "metadata": {},
   "source": [
    "### Export dataframe for further preprocessing"
   ]
  },
  {
   "cell_type": "code",
   "execution_count": 27,
   "id": "a1d20aad",
   "metadata": {},
   "outputs": [],
   "source": [
    "df.to_pickle(f\"{data_dir}/eda.pkl\")"
   ]
  }
 ],
 "metadata": {
  "kernelspec": {
   "display_name": "Python 3 (ipykernel)",
   "language": "python",
   "name": "python3"
  },
  "language_info": {
   "codemirror_mode": {
    "name": "ipython",
    "version": 3
   },
   "file_extension": ".py",
   "mimetype": "text/x-python",
   "name": "python",
   "nbconvert_exporter": "python",
   "pygments_lexer": "ipython3",
   "version": "3.9.7"
  }
 },
 "nbformat": 4,
 "nbformat_minor": 5
}
