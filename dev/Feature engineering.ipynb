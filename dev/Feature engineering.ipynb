{
 "cells": [
  {
   "cell_type": "markdown",
   "id": "4acafd0d",
   "metadata": {},
   "source": [
    "In this notebook, we'll focus on feature extraction from the two text columns, i.e. title and body, so that the data set will be ready for model training."
   ]
  },
  {
   "cell_type": "code",
   "execution_count": 1,
   "id": "c5f21cb1",
   "metadata": {},
   "outputs": [],
   "source": [
    "import os\n",
    "\n",
    "project_dir = os.getcwd()\n",
    "data_dir = os.path.join(project_dir, \"data\")"
   ]
  },
  {
   "cell_type": "code",
   "execution_count": 2,
   "id": "ac1c90d3",
   "metadata": {},
   "outputs": [],
   "source": [
    "import pandas as pd\n",
    "from tqdm import tqdm\n",
    "\n",
    "pd.options.display.max_colwidth = 255\n",
    "tqdm.pandas()"
   ]
  },
  {
   "cell_type": "code",
   "execution_count": 3,
   "id": "79d48437",
   "metadata": {},
   "outputs": [],
   "source": [
    "df = pd.read_pickle(f\"{data_dir}/preprocessed.pkl\")"
   ]
  },
  {
   "cell_type": "code",
   "execution_count": 4,
   "id": "66119ca3",
   "metadata": {},
   "outputs": [
    {
     "data": {
      "text/html": [
       "<div>\n",
       "<style scoped>\n",
       "    .dataframe tbody tr th:only-of-type {\n",
       "        vertical-align: middle;\n",
       "    }\n",
       "\n",
       "    .dataframe tbody tr th {\n",
       "        vertical-align: top;\n",
       "    }\n",
       "\n",
       "    .dataframe thead th {\n",
       "        text-align: right;\n",
       "    }\n",
       "</style>\n",
       "<table border=\"1\" class=\"dataframe\">\n",
       "  <thead>\n",
       "    <tr style=\"text-align: right;\">\n",
       "      <th></th>\n",
       "      <th>id</th>\n",
       "      <th>title_tokenized</th>\n",
       "      <th>body_tokenized</th>\n",
       "      <th>tags</th>\n",
       "    </tr>\n",
       "  </thead>\n",
       "  <tbody>\n",
       "    <tr>\n",
       "      <th>0</th>\n",
       "      <td>80</td>\n",
       "      <td>[multiple, queries, one, statement]</td>\n",
       "      <td>[written, database, generation, script, SQL, and, want, execute, Adobe, AIR, application, Create, Table, tRole, roleID, integer, Primary, Key, roleName, varchar, Create, Table, tFile, fileID, integer, Primary, Key, fileName, varchar, fileDescription, ...</td>\n",
       "      <td>[flex, actionscript-3, air]</td>\n",
       "    </tr>\n",
       "    <tr>\n",
       "      <th>1</th>\n",
       "      <td>90</td>\n",
       "      <td>[Good, branching, and, merging, tutorials, for, TortoiseSVN]</td>\n",
       "      <td>[Are, there, any, really, good, tutorials, explaining, branching, and, merging, with, Apache, Subversion, All, the, better, specific, TortoiseSVN, client]</td>\n",
       "      <td>[svn, tortoisesvn, branch, branching-and-merging]</td>\n",
       "    </tr>\n",
       "    <tr>\n",
       "      <th>2</th>\n",
       "      <td>120</td>\n",
       "      <td>[Site, Maps]</td>\n",
       "      <td>[Has, anyone, got, experience, creating, providers, got, the, default, XML, file, working, properly, with, Menu, and, SiteMapPath, controls, but, need, way, for, the, users, site, create, and, modify, pages, dynamically, need, tie, page, viewing, perm...</td>\n",
       "      <td>[sql, asp.net, sitemap]</td>\n",
       "    </tr>\n",
       "    <tr>\n",
       "      <th>3</th>\n",
       "      <td>180</td>\n",
       "      <td>[Function, for, creating, color, wheels]</td>\n",
       "      <td>[This, something, many, times, and, never, quite, found, solution, That, stuck, with, The, problem, come, with, way, generate, colors, that, are, distinguishable, possible, where, parameter]</td>\n",
       "      <td>[algorithm, language-agnostic, colors, color-space]</td>\n",
       "    </tr>\n",
       "    <tr>\n",
       "      <th>4</th>\n",
       "      <td>260</td>\n",
       "      <td>[Adding, scripting, functionality, applications]</td>\n",
       "      <td>[have, little, game, written, C, #, uses, database, trading, card, game, and, wanted, implement, the, function, the, cards, script, What, mean, that, essentially, have, interface, ICard, which, card, class, implements, public, class, ICard, and, which...</td>\n",
       "      <td>[c#, .net, scripting, compiler-construction]</td>\n",
       "    </tr>\n",
       "  </tbody>\n",
       "</table>\n",
       "</div>"
      ],
      "text/plain": [
       "    id                                               title_tokenized  \\\n",
       "0   80                           [multiple, queries, one, statement]   \n",
       "1   90  [Good, branching, and, merging, tutorials, for, TortoiseSVN]   \n",
       "2  120                                                  [Site, Maps]   \n",
       "3  180                      [Function, for, creating, color, wheels]   \n",
       "4  260              [Adding, scripting, functionality, applications]   \n",
       "\n",
       "                                                                                                                                                                                                                                                   body_tokenized  \\\n",
       "0  [written, database, generation, script, SQL, and, want, execute, Adobe, AIR, application, Create, Table, tRole, roleID, integer, Primary, Key, roleName, varchar, Create, Table, tFile, fileID, integer, Primary, Key, fileName, varchar, fileDescription, ...   \n",
       "1                                                                                                      [Are, there, any, really, good, tutorials, explaining, branching, and, merging, with, Apache, Subversion, All, the, better, specific, TortoiseSVN, client]   \n",
       "2  [Has, anyone, got, experience, creating, providers, got, the, default, XML, file, working, properly, with, Menu, and, SiteMapPath, controls, but, need, way, for, the, users, site, create, and, modify, pages, dynamically, need, tie, page, viewing, perm...   \n",
       "3                                                                  [This, something, many, times, and, never, quite, found, solution, That, stuck, with, The, problem, come, with, way, generate, colors, that, are, distinguishable, possible, where, parameter]   \n",
       "4  [have, little, game, written, C, #, uses, database, trading, card, game, and, wanted, implement, the, function, the, cards, script, What, mean, that, essentially, have, interface, ICard, which, card, class, implements, public, class, ICard, and, which...   \n",
       "\n",
       "                                                  tags  \n",
       "0                          [flex, actionscript-3, air]  \n",
       "1    [svn, tortoisesvn, branch, branching-and-merging]  \n",
       "2                              [sql, asp.net, sitemap]  \n",
       "3  [algorithm, language-agnostic, colors, color-space]  \n",
       "4         [c#, .net, scripting, compiler-construction]  "
      ]
     },
     "execution_count": 4,
     "metadata": {},
     "output_type": "execute_result"
    }
   ],
   "source": [
    "df.head()"
   ]
  },
  {
   "cell_type": "markdown",
   "id": "339942ac",
   "metadata": {},
   "source": [
    "### Number of tags (i.e. classes)"
   ]
  },
  {
   "cell_type": "code",
   "execution_count": 5,
   "id": "083ac33e",
   "metadata": {},
   "outputs": [
    {
     "data": {
      "text/plain": [
       "38146"
      ]
     },
     "execution_count": 5,
     "metadata": {},
     "output_type": "execute_result"
    }
   ],
   "source": [
    "from collections import Counter\n",
    "\n",
    "tag_count = Counter()\n",
    "\n",
    "def count_tag(tags):\n",
    "    for tag in tags:\n",
    "        tag_count[tag] += 1\n",
    "\n",
    "df[\"tags\"].apply(count_tag)\n",
    "\n",
    "len(tag_count.values())"
   ]
  },
  {
   "cell_type": "markdown",
   "id": "99224b51",
   "metadata": {},
   "source": [
    "As there are over 38,000 tags in the dataset, which is too much for a multi-label classification, I can only keep data with the top 20 tags (which will cover ~30% of the questions)"
   ]
  },
  {
   "cell_type": "code",
   "execution_count": 6,
   "id": "0a6494fb",
   "metadata": {},
   "outputs": [
    {
     "name": "stderr",
     "output_type": "stream",
     "text": [
      "100%|████████████████████████████████████████████████████████████████████| 1264216/1264216 [00:04<00:00, 276116.86it/s]\n"
     ]
    }
   ],
   "source": [
    "most_common_tags = [count[0] for count in tag_count.most_common(20)]\n",
    "df[\"tags\"] = df[\"tags\"].progress_apply(lambda tags: [tag for tag in tags if tag in most_common_tags])"
   ]
  },
  {
   "cell_type": "code",
   "execution_count": 7,
   "id": "3ea55f72",
   "metadata": {},
   "outputs": [
    {
     "data": {
      "text/plain": [
       "(850988, 4)"
      ]
     },
     "execution_count": 7,
     "metadata": {},
     "output_type": "execute_result"
    }
   ],
   "source": [
    "df[df[\"tags\"].map(lambda tags: len(tags) > 0)].shape"
   ]
  },
  {
   "cell_type": "code",
   "execution_count": 8,
   "id": "7b228125",
   "metadata": {},
   "outputs": [
    {
     "name": "stdout",
     "output_type": "stream",
     "text": [
      "Only 413,228 rows of data will be dropped while number of classes is reduced from 38,146 to 20!\n"
     ]
    }
   ],
   "source": [
    "print(f\"Only {1264216 - 850988:,} rows of data will be dropped while number of classes is reduced from {len(tag_count.values()):,} to 20!\")"
   ]
  },
  {
   "cell_type": "code",
   "execution_count": 9,
   "id": "db152274",
   "metadata": {},
   "outputs": [],
   "source": [
    "df = df[df[\"tags\"].map(lambda tags: len(tags) > 0)]"
   ]
  },
  {
   "cell_type": "markdown",
   "id": "057fb772",
   "metadata": {},
   "source": [
    "### Feature vector generation using TfidfVectorizer"
   ]
  },
  {
   "cell_type": "markdown",
   "id": "060baadb",
   "metadata": {},
   "source": [
    "#### Lowecasing before feature generation"
   ]
  },
  {
   "cell_type": "code",
   "execution_count": 11,
   "id": "9791728d",
   "metadata": {},
   "outputs": [],
   "source": [
    "def lowercase(words):\n",
    "    words_filtered = []\n",
    "    for word in words:\n",
    "        words_filtered.append(word.lower())\n",
    "    return words_filtered"
   ]
  },
  {
   "cell_type": "code",
   "execution_count": 12,
   "id": "e3c48943",
   "metadata": {},
   "outputs": [
    {
     "name": "stderr",
     "output_type": "stream",
     "text": [
      "100%|████████████████████████████████████████████████████████████████████████| 850988/850988 [01:37<00:00, 8766.90it/s]\n"
     ]
    }
   ],
   "source": [
    "df[\"body_tokenized\"] = df[\"body_tokenized\"].progress_apply(lowercase)"
   ]
  },
  {
   "cell_type": "code",
   "execution_count": 13,
   "id": "194604db",
   "metadata": {},
   "outputs": [
    {
     "name": "stderr",
     "output_type": "stream",
     "text": [
      "100%|████████████████████████████████████████████████████████████████████████| 850988/850988 [07:01<00:00, 2018.93it/s]\n"
     ]
    }
   ],
   "source": [
    "df[\"title_tokenized\"] = df[\"title_tokenized\"].progress_apply(lowercase)"
   ]
  },
  {
   "cell_type": "code",
   "execution_count": 14,
   "id": "5e9125ee",
   "metadata": {},
   "outputs": [
    {
     "data": {
      "text/html": [
       "<div>\n",
       "<style scoped>\n",
       "    .dataframe tbody tr th:only-of-type {\n",
       "        vertical-align: middle;\n",
       "    }\n",
       "\n",
       "    .dataframe tbody tr th {\n",
       "        vertical-align: top;\n",
       "    }\n",
       "\n",
       "    .dataframe thead th {\n",
       "        text-align: right;\n",
       "    }\n",
       "</style>\n",
       "<table border=\"1\" class=\"dataframe\">\n",
       "  <thead>\n",
       "    <tr style=\"text-align: right;\">\n",
       "      <th></th>\n",
       "      <th>id</th>\n",
       "      <th>title_tokenized</th>\n",
       "      <th>body_tokenized</th>\n",
       "      <th>tags</th>\n",
       "    </tr>\n",
       "  </thead>\n",
       "  <tbody>\n",
       "    <tr>\n",
       "      <th>2</th>\n",
       "      <td>120</td>\n",
       "      <td>[site, maps]</td>\n",
       "      <td>[has, anyone, got, experience, creating, providers, got, the, default, xml, file, working, properly, with, menu, and, sitemappath, controls, but, need, way, for, the, users, site, create, and, modify, pages, dynamically, need, tie, page, viewing, perm...</td>\n",
       "      <td>[sql, asp.net]</td>\n",
       "    </tr>\n",
       "    <tr>\n",
       "      <th>4</th>\n",
       "      <td>260</td>\n",
       "      <td>[adding, scripting, functionality, applications]</td>\n",
       "      <td>[have, little, game, written, c, #, uses, database, trading, card, game, and, wanted, implement, the, function, the, cards, script, what, mean, that, essentially, have, interface, icard, which, card, class, implements, public, class, icard, and, which...</td>\n",
       "      <td>[c#, .net]</td>\n",
       "    </tr>\n",
       "    <tr>\n",
       "      <th>5</th>\n",
       "      <td>330</td>\n",
       "      <td>[should, use, nested, classes, this, case]</td>\n",
       "      <td>[working, collection, classes, used, for, video, playback, and, recording, have, one, main, class, which, acts, like, the, public, interface, with, methods, like, play, stop, pause, record, etc, then, have, workhorse, classes, which, the, video, decod...</td>\n",
       "      <td>[c++]</td>\n",
       "    </tr>\n",
       "    <tr>\n",
       "      <th>6</th>\n",
       "      <td>470</td>\n",
       "      <td>[homegrown, consumption, web, services]</td>\n",
       "      <td>[been, writing, few, web, services, for, .net, app, now, ready, consume, them, seen, numerous, examples, where, there, homegrown, code, for, consuming, the, service, opposed, using, the, auto, generated, methods, visual, studio, creates, when, adding,...</td>\n",
       "      <td>[.net]</td>\n",
       "    </tr>\n",
       "    <tr>\n",
       "      <th>8</th>\n",
       "      <td>650</td>\n",
       "      <td>[automatically, update, version, number]</td>\n",
       "      <td>[would, like, the, version, property, application, incremented, for, each, build, but, not, sure, how, enable, this, functionality, visual, studio, have, tried, specify, the, assemblyversion, but, does, get, exactly, what, want, also, using, settings,...</td>\n",
       "      <td>[c#]</td>\n",
       "    </tr>\n",
       "  </tbody>\n",
       "</table>\n",
       "</div>"
      ],
      "text/plain": [
       "    id                                   title_tokenized  \\\n",
       "2  120                                      [site, maps]   \n",
       "4  260  [adding, scripting, functionality, applications]   \n",
       "5  330        [should, use, nested, classes, this, case]   \n",
       "6  470           [homegrown, consumption, web, services]   \n",
       "8  650          [automatically, update, version, number]   \n",
       "\n",
       "                                                                                                                                                                                                                                                   body_tokenized  \\\n",
       "2  [has, anyone, got, experience, creating, providers, got, the, default, xml, file, working, properly, with, menu, and, sitemappath, controls, but, need, way, for, the, users, site, create, and, modify, pages, dynamically, need, tie, page, viewing, perm...   \n",
       "4  [have, little, game, written, c, #, uses, database, trading, card, game, and, wanted, implement, the, function, the, cards, script, what, mean, that, essentially, have, interface, icard, which, card, class, implements, public, class, icard, and, which...   \n",
       "5  [working, collection, classes, used, for, video, playback, and, recording, have, one, main, class, which, acts, like, the, public, interface, with, methods, like, play, stop, pause, record, etc, then, have, workhorse, classes, which, the, video, decod...   \n",
       "6  [been, writing, few, web, services, for, .net, app, now, ready, consume, them, seen, numerous, examples, where, there, homegrown, code, for, consuming, the, service, opposed, using, the, auto, generated, methods, visual, studio, creates, when, adding,...   \n",
       "8  [would, like, the, version, property, application, incremented, for, each, build, but, not, sure, how, enable, this, functionality, visual, studio, have, tried, specify, the, assemblyversion, but, does, get, exactly, what, want, also, using, settings,...   \n",
       "\n",
       "             tags  \n",
       "2  [sql, asp.net]  \n",
       "4      [c#, .net]  \n",
       "5           [c++]  \n",
       "6          [.net]  \n",
       "8            [c#]  "
      ]
     },
     "execution_count": 14,
     "metadata": {},
     "output_type": "execute_result"
    }
   ],
   "source": [
    "df.head()"
   ]
  },
  {
   "cell_type": "markdown",
   "id": "147ce08c",
   "metadata": {},
   "source": [
    "#### Feature generation"
   ]
  },
  {
   "cell_type": "markdown",
   "id": "6267dcf2",
   "metadata": {},
   "source": [
    "##### By setting stop_words='english', the stop words will be removed; but ['C', 'c', '#'] will be removed also (if we could retokenize 'C#' it would be the perfect scenario)"
   ]
  },
  {
   "cell_type": "code",
   "execution_count": 15,
   "id": "447f4765",
   "metadata": {},
   "outputs": [
    {
     "name": "stderr",
     "output_type": "stream",
     "text": [
      "C:\\Users\\sotir\\anaconda3\\envs\\thesis-pytorch\\lib\\site-packages\\sklearn\\feature_extraction\\text.py:396: UserWarning: Your stop_words may be inconsistent with your preprocessing. Tokenizing the stop words generated tokens ['b', 'c', 'd', 'e', 'f', 'g', 'h', 'k', 'l', 'm', 'n', 'o', 'p', 'r', 's', 't', 'u', 'v', 'w', 'x', 'y'] not in stop_words.\n",
      "  warnings.warn(\n"
     ]
    }
   ],
   "source": [
    "from sklearn.feature_extraction.text import TfidfVectorizer\n",
    "\n",
    "# we have already tokenize the text so we need a dummy one to bypass tokenization\n",
    "def dummy_tokenizer(string): return string\n",
    "\n",
    "# we will only get the 10,000 most common words for title to limit size of dataset\n",
    "title_vectorizer = TfidfVectorizer(tokenizer=dummy_tokenizer, \n",
    "                                   lowercase=False,\n",
    "                                   stop_words='english',\n",
    "                                   max_features=10000)\n",
    "x_title = title_vectorizer.fit_transform(df[\"title_tokenized\"])"
   ]
  },
  {
   "cell_type": "code",
   "execution_count": 16,
   "id": "0f168a7b",
   "metadata": {},
   "outputs": [],
   "source": [
    "# we will get the 100,000 most common words for body\n",
    "body_vectorizer = TfidfVectorizer(tokenizer=dummy_tokenizer, \n",
    "                                  lowercase=False,\n",
    "                                  stop_words='english',\n",
    "                                  max_features=100000)\n",
    "x_body = body_vectorizer.fit_transform(df[\"body_tokenized\"])"
   ]
  },
  {
   "cell_type": "code",
   "execution_count": 17,
   "id": "0ed3486a",
   "metadata": {},
   "outputs": [
    {
     "data": {
      "text/html": [
       "<div>\n",
       "<style scoped>\n",
       "    .dataframe tbody tr th:only-of-type {\n",
       "        vertical-align: middle;\n",
       "    }\n",
       "\n",
       "    .dataframe tbody tr th {\n",
       "        vertical-align: top;\n",
       "    }\n",
       "\n",
       "    .dataframe thead th {\n",
       "        text-align: right;\n",
       "    }\n",
       "</style>\n",
       "<table border=\"1\" class=\"dataframe\">\n",
       "  <thead>\n",
       "    <tr style=\"text-align: right;\">\n",
       "      <th></th>\n",
       "      <th>id</th>\n",
       "      <th>title_tokenized</th>\n",
       "      <th>body_tokenized</th>\n",
       "      <th>tags</th>\n",
       "    </tr>\n",
       "  </thead>\n",
       "  <tbody>\n",
       "    <tr>\n",
       "      <th>4</th>\n",
       "      <td>260</td>\n",
       "      <td>[adding, scripting, functionality, applications]</td>\n",
       "      <td>[have, little, game, written, c, #, uses, database, trading, card, game, and, wanted, implement, the, function, the, cards, script, what, mean, that, essentially, have, interface, icard, which, card, class, implements, public, class, icard, and, which...</td>\n",
       "      <td>[c#, .net]</td>\n",
       "    </tr>\n",
       "  </tbody>\n",
       "</table>\n",
       "</div>"
      ],
      "text/plain": [
       "    id                                   title_tokenized  \\\n",
       "4  260  [adding, scripting, functionality, applications]   \n",
       "\n",
       "                                                                                                                                                                                                                                                   body_tokenized  \\\n",
       "4  [have, little, game, written, c, #, uses, database, trading, card, game, and, wanted, implement, the, function, the, cards, script, what, mean, that, essentially, have, interface, icard, which, card, class, implements, public, class, icard, and, which...   \n",
       "\n",
       "         tags  \n",
       "4  [c#, .net]  "
      ]
     },
     "execution_count": 17,
     "metadata": {},
     "output_type": "execute_result"
    }
   ],
   "source": [
    "df.iloc[[1]]"
   ]
  },
  {
   "cell_type": "code",
   "execution_count": 18,
   "id": "1ca94f2c",
   "metadata": {},
   "outputs": [
    {
     "data": {
      "text/plain": [
       "scripting        0.602903\n",
       "functionality    0.505980\n",
       "applications     0.493765\n",
       "adding           0.369714\n",
       "Name: 1, dtype: float64"
      ]
     },
     "execution_count": 18,
     "metadata": {},
     "output_type": "execute_result"
    }
   ],
   "source": [
    "pd.DataFrame(x_title[:11].toarray(), columns=title_vectorizer.get_feature_names_out()) \\\n",
    "  .iloc[1].sort_values(ascending=False).where(lambda v: v > 0).dropna().head(10)"
   ]
  },
  {
   "cell_type": "code",
   "execution_count": 19,
   "id": "346b5c53",
   "metadata": {},
   "outputs": [
    {
     "data": {
      "text/plain": [
       "card                0.503108\n",
       "cards               0.355600\n",
       "game                0.251770\n",
       "currentgamestate    0.200055\n",
       "assembly            0.199405\n",
       "essentially         0.197748\n",
       "language            0.172273\n",
       "database            0.172025\n",
       "class               0.171883\n",
       "trading             0.153585\n",
       "Name: 1, dtype: float64"
      ]
     },
     "execution_count": 19,
     "metadata": {},
     "output_type": "execute_result"
    }
   ],
   "source": [
    "pd.DataFrame(x_body[:11].toarray(), columns=body_vectorizer.get_feature_names_out()) \\\n",
    "  .iloc[1].sort_values(ascending=False).where(lambda v: v > 0).dropna().head(10)"
   ]
  },
  {
   "cell_type": "markdown",
   "id": "08478add",
   "metadata": {},
   "source": [
    "### Concantenate dataset and train val test split"
   ]
  },
  {
   "cell_type": "code",
   "execution_count": 20,
   "id": "9483954f",
   "metadata": {},
   "outputs": [],
   "source": [
    "# give a weight of 2 to title as it should contain more important words than body\n",
    "x_title = x_title * 2"
   ]
  },
  {
   "cell_type": "code",
   "execution_count": 21,
   "id": "cf550e5c",
   "metadata": {},
   "outputs": [],
   "source": [
    "from scipy.sparse import hstack\n",
    "from sklearn.model_selection import train_test_split\n",
    "\n",
    "X = hstack([x_title, x_body])\n",
    "y = df[[\"tags\"]]"
   ]
  },
  {
   "cell_type": "code",
   "execution_count": 22,
   "id": "679b918b",
   "metadata": {},
   "outputs": [],
   "source": [
    "from sklearn.preprocessing import MultiLabelBinarizer\n",
    "\n",
    "multi_label_binarizer = MultiLabelBinarizer()\n",
    "y = multi_label_binarizer.fit_transform(y[\"tags\"])"
   ]
  },
  {
   "cell_type": "markdown",
   "id": "2a605e65",
   "metadata": {},
   "source": [
    "### Splitting into train, val, test set as best practice"
   ]
  },
  {
   "cell_type": "code",
   "execution_count": 23,
   "id": "87b722fd",
   "metadata": {},
   "outputs": [],
   "source": [
    "train_ratio = 0.8\n",
    "val_ratio = 0.1\n",
    "test_ratio = 0.1"
   ]
  },
  {
   "cell_type": "code",
   "execution_count": 24,
   "id": "e402b689",
   "metadata": {},
   "outputs": [
    {
     "data": {
      "text/html": [
       "<div>\n",
       "<style scoped>\n",
       "    .dataframe tbody tr th:only-of-type {\n",
       "        vertical-align: middle;\n",
       "    }\n",
       "\n",
       "    .dataframe tbody tr th {\n",
       "        vertical-align: top;\n",
       "    }\n",
       "\n",
       "    .dataframe thead th {\n",
       "        text-align: right;\n",
       "    }\n",
       "</style>\n",
       "<table border=\"1\" class=\"dataframe\">\n",
       "  <thead>\n",
       "    <tr style=\"text-align: right;\">\n",
       "      <th></th>\n",
       "      <th>tags</th>\n",
       "    </tr>\n",
       "  </thead>\n",
       "  <tbody>\n",
       "    <tr>\n",
       "      <th>223</th>\n",
       "      <td>[html, css]</td>\n",
       "    </tr>\n",
       "    <tr>\n",
       "      <th>225</th>\n",
       "      <td>[.net]</td>\n",
       "    </tr>\n",
       "    <tr>\n",
       "      <th>226</th>\n",
       "      <td>[c]</td>\n",
       "    </tr>\n",
       "    <tr>\n",
       "      <th>227</th>\n",
       "      <td>[sql]</td>\n",
       "    </tr>\n",
       "    <tr>\n",
       "      <th>228</th>\n",
       "      <td>[asp.net]</td>\n",
       "    </tr>\n",
       "    <tr>\n",
       "      <th>229</th>\n",
       "      <td>[java]</td>\n",
       "    </tr>\n",
       "    <tr>\n",
       "      <th>231</th>\n",
       "      <td>[ruby-on-rails]</td>\n",
       "    </tr>\n",
       "    <tr>\n",
       "      <th>232</th>\n",
       "      <td>[c++, c]</td>\n",
       "    </tr>\n",
       "    <tr>\n",
       "      <th>233</th>\n",
       "      <td>[c#]</td>\n",
       "    </tr>\n",
       "    <tr>\n",
       "      <th>236</th>\n",
       "      <td>[c#, c++]</td>\n",
       "    </tr>\n",
       "  </tbody>\n",
       "</table>\n",
       "</div>"
      ],
      "text/plain": [
       "                tags\n",
       "223      [html, css]\n",
       "225           [.net]\n",
       "226              [c]\n",
       "227            [sql]\n",
       "228        [asp.net]\n",
       "229           [java]\n",
       "231  [ruby-on-rails]\n",
       "232         [c++, c]\n",
       "233             [c#]\n",
       "236        [c#, c++]"
      ]
     },
     "execution_count": 24,
     "metadata": {},
     "output_type": "execute_result"
    }
   ],
   "source": [
    "df[[\"tags\"]][110:120]"
   ]
  },
  {
   "cell_type": "markdown",
   "id": "a51b2bb4",
   "metadata": {},
   "source": [
    "Thus, I cannot set stratify = y in train_test_split (an error occured becauses of instances with index 175, 183). Maybe this should be avoided if I keep only the first tag in questions with multiple tags and split into train, val, test accordingly to secure class balance between the 3 sets"
   ]
  },
  {
   "cell_type": "code",
   "execution_count": 25,
   "id": "d6f3144e",
   "metadata": {},
   "outputs": [],
   "source": [
    "X_train, X_test, y_train, y_test = train_test_split(X, y, test_size=1 - train_ratio, random_state=0)"
   ]
  },
  {
   "cell_type": "markdown",
   "id": "75ea0d56",
   "metadata": {},
   "source": [
    "### Check class distributions in train, test (test + val) sets"
   ]
  },
  {
   "cell_type": "code",
   "execution_count": 32,
   "id": "0e53a87a",
   "metadata": {},
   "outputs": [
    {
     "name": "stdout",
     "output_type": "stream",
     "text": [
      "Train Set Class Distribution (%):\n",
      "Class 0: 2.83%\n",
      "Class 1: 10.67%\n",
      "Class 2: 2.39%\n",
      "Class 3: 3.52%\n",
      "Class 4: 2.73%\n",
      "Class 5: 11.89%\n",
      "Class 6: 5.59%\n",
      "Class 7: 4.97%\n",
      "Class 8: 6.94%\n",
      "Class 9: 5.52%\n",
      "Class 10: 2.53%\n",
      "Class 11: 13.52%\n",
      "Class 12: 14.60%\n",
      "Class 13: 9.21%\n",
      "Class 14: 4.99%\n",
      "Class 15: 3.17%\n",
      "Class 16: 11.61%\n",
      "Class 17: 7.59%\n",
      "Class 18: 3.03%\n",
      "Class 19: 4.18%\n",
      "\n",
      "Test Set Class Distribution (%):\n",
      "Class 0: 2.83%\n",
      "Class 1: 10.60%\n",
      "Class 2: 2.41%\n",
      "Class 3: 3.53%\n",
      "Class 4: 2.72%\n",
      "Class 5: 11.90%\n",
      "Class 6: 5.59%\n",
      "Class 7: 4.98%\n",
      "Class 8: 6.90%\n",
      "Class 9: 5.56%\n",
      "Class 10: 2.53%\n",
      "Class 11: 13.62%\n",
      "Class 12: 14.54%\n",
      "Class 13: 9.30%\n",
      "Class 14: 5.00%\n",
      "Class 15: 3.13%\n",
      "Class 16: 11.62%\n",
      "Class 17: 7.58%\n",
      "Class 18: 3.02%\n",
      "Class 19: 4.30%\n"
     ]
    }
   ],
   "source": [
    "import numpy as np \n",
    "\n",
    "# Step 1: Sum up the one-hot encoded vectors to get the count for each class\n",
    "train_class_counts = np.sum(y_train, axis=0)\n",
    "test_class_counts = np.sum(y_test, axis=0)\n",
    "\n",
    "# Step 2: Calculate the percentage distribution for each class\n",
    "total_train_instances = y_train.shape[0]\n",
    "total_test_instances = y_test.shape[0]\n",
    "\n",
    "train_class_distribution = train_class_counts / total_train_instances * 100\n",
    "test_class_distribution = test_class_counts / total_test_instances * 100\n",
    "\n",
    "# Print the distributions\n",
    "print(\"Train Set Class Distribution (%):\")\n",
    "for class_idx, percentage in enumerate(train_class_distribution):\n",
    "    print(f\"Class {class_idx}: {percentage:.2f}%\")\n",
    "\n",
    "print(\"\\nTest Set Class Distribution (%):\")\n",
    "for class_idx, percentage in enumerate(test_class_distribution):\n",
    "    print(f\"Class {class_idx}: {percentage:.2f}%\")"
   ]
  },
  {
   "cell_type": "code",
   "execution_count": 33,
   "id": "0611f0be",
   "metadata": {},
   "outputs": [],
   "source": [
    "X_val, X_test, y_val, y_test = train_test_split(X, y, test_size=test_ratio/(test_ratio + val_ratio), random_state=0)"
   ]
  },
  {
   "cell_type": "markdown",
   "id": "bf616bca",
   "metadata": {},
   "source": [
    "### Check class distributions in test, val  sets"
   ]
  },
  {
   "cell_type": "code",
   "execution_count": 36,
   "id": "91a3c630",
   "metadata": {},
   "outputs": [
    {
     "name": "stdout",
     "output_type": "stream",
     "text": [
      "Train Set Class Distribution (%):\n",
      "Class 0: 2.82%\n",
      "Class 1: 10.69%\n",
      "Class 2: 2.39%\n",
      "Class 3: 3.49%\n",
      "Class 4: 2.72%\n",
      "Class 5: 11.87%\n",
      "Class 6: 5.56%\n",
      "Class 7: 4.95%\n",
      "Class 8: 6.92%\n",
      "Class 9: 5.51%\n",
      "Class 10: 2.54%\n",
      "Class 11: 13.49%\n",
      "Class 12: 14.57%\n",
      "Class 13: 9.23%\n",
      "Class 14: 4.98%\n",
      "Class 15: 3.18%\n",
      "Class 16: 11.62%\n",
      "Class 17: 7.66%\n",
      "Class 18: 3.04%\n",
      "Class 19: 4.18%\n",
      "\n",
      "Test Set Class Distribution (%):\n",
      "Class 0: 2.84%\n",
      "Class 1: 10.61%\n",
      "Class 2: 2.39%\n",
      "Class 3: 3.56%\n",
      "Class 4: 2.74%\n",
      "Class 5: 11.91%\n",
      "Class 6: 5.62%\n",
      "Class 7: 4.99%\n",
      "Class 8: 6.94%\n",
      "Class 9: 5.54%\n",
      "Class 10: 2.53%\n",
      "Class 11: 13.59%\n",
      "Class 12: 14.60%\n",
      "Class 13: 9.23%\n",
      "Class 14: 5.00%\n",
      "Class 15: 3.15%\n",
      "Class 16: 11.60%\n",
      "Class 17: 7.52%\n",
      "Class 18: 3.02%\n",
      "Class 19: 4.23%\n"
     ]
    }
   ],
   "source": [
    "import numpy as np \n",
    "\n",
    "# Step 1: Sum up the one-hot encoded vectors to get the count for each class\n",
    "val_class_counts = np.sum(y_val, axis=0)\n",
    "test_class_counts = np.sum(y_test, axis=0)\n",
    "\n",
    "# Step 2: Calculate the percentage distribution for each class\n",
    "total_val_instances = y_val.shape[0]\n",
    "total_test_instances = y_test.shape[0]\n",
    "\n",
    "val_class_distribution = val_class_counts / total_val_instances * 100\n",
    "test_class_distribution = test_class_counts / total_test_instances * 100\n",
    "\n",
    "# Print the distributions\n",
    "print(\"Train Set Class Distribution (%):\")\n",
    "for class_idx, percentage in enumerate(val_class_distribution):\n",
    "    print(f\"Class {class_idx}: {percentage:.2f}%\")\n",
    "\n",
    "print(\"\\nTest Set Class Distribution (%):\")\n",
    "for class_idx, percentage in enumerate(test_class_distribution):\n",
    "    print(f\"Class {class_idx}: {percentage:.2f}%\")"
   ]
  },
  {
   "cell_type": "code",
   "execution_count": 37,
   "id": "f88190c6",
   "metadata": {},
   "outputs": [
    {
     "data": {
      "text/plain": [
       "['C:\\\\Users\\\\sotir\\\\Documents\\\\git\\\\satori-case-study\\\\data/y_classes.pkl']"
      ]
     },
     "execution_count": 37,
     "metadata": {},
     "output_type": "execute_result"
    }
   ],
   "source": [
    "import joblib\n",
    "\n",
    "joblib.dump(X_train, f\"{data_dir}/x_train.pkl\")\n",
    "joblib.dump(X_test, f\"{data_dir}/x_test.pkl\")\n",
    "joblib.dump(X_val, f\"{data_dir}/x_val.pkl\")\n",
    "joblib.dump(y_train, f\"{data_dir}/y_train.pkl\")\n",
    "joblib.dump(y_test, f\"{data_dir}/y_test.pkl\")\n",
    "joblib.dump(y_val, f\"{data_dir}/y_val.pkl\")\n",
    "joblib.dump(multi_label_binarizer.classes_, f\"{data_dir}/y_classes.pkl\")"
   ]
  }
 ],
 "metadata": {
  "kernelspec": {
   "display_name": "Python 3 (ipykernel)",
   "language": "python",
   "name": "python3"
  },
  "language_info": {
   "codemirror_mode": {
    "name": "ipython",
    "version": 3
   },
   "file_extension": ".py",
   "mimetype": "text/x-python",
   "name": "python",
   "nbconvert_exporter": "python",
   "pygments_lexer": "ipython3",
   "version": "3.9.7"
  }
 },
 "nbformat": 4,
 "nbformat_minor": 5
}
