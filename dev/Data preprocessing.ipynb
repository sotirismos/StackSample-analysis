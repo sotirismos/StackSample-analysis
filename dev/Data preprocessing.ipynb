{
 "cells": [
  {
   "cell_type": "markdown",
   "id": "c88cf272",
   "metadata": {},
   "source": [
    "In the notebook, I will focus on data cleansing, such as removing HTML tags from body text, and some other text processing, so that the dataset will be ready for feature extraction."
   ]
  },
  {
   "cell_type": "code",
   "execution_count": 1,
   "id": "911da232",
   "metadata": {},
   "outputs": [],
   "source": [
    "import os\n",
    "\n",
    "project_dir = os.getcwd()\n",
    "data_dir = os.path.join(project_dir, \"data\")"
   ]
  },
  {
   "cell_type": "code",
   "execution_count": 2,
   "id": "574702d9",
   "metadata": {},
   "outputs": [],
   "source": [
    "import nltk\n",
    "import pandas as pd\n",
    "from bs4 import BeautifulSoup\n",
    "from tqdm import tqdm\n",
    "import re\n",
    "\n",
    "tqdm.pandas()\n",
    "pd.options.display.max_colwidth = 255"
   ]
  },
  {
   "cell_type": "code",
   "execution_count": 3,
   "id": "4d369cbd",
   "metadata": {},
   "outputs": [],
   "source": [
    "df = pd.read_pickle(f\"{data_dir}/eda.pkl\")"
   ]
  },
  {
   "cell_type": "code",
   "execution_count": 4,
   "id": "856c7486",
   "metadata": {},
   "outputs": [
    {
     "data": {
      "text/html": [
       "<div>\n",
       "<style scoped>\n",
       "    .dataframe tbody tr th:only-of-type {\n",
       "        vertical-align: middle;\n",
       "    }\n",
       "\n",
       "    .dataframe tbody tr th {\n",
       "        vertical-align: top;\n",
       "    }\n",
       "\n",
       "    .dataframe thead th {\n",
       "        text-align: right;\n",
       "    }\n",
       "</style>\n",
       "<table border=\"1\" class=\"dataframe\">\n",
       "  <thead>\n",
       "    <tr style=\"text-align: right;\">\n",
       "      <th></th>\n",
       "      <th>id</th>\n",
       "      <th>title</th>\n",
       "      <th>body</th>\n",
       "      <th>tag</th>\n",
       "      <th>tag_count</th>\n",
       "    </tr>\n",
       "  </thead>\n",
       "  <tbody>\n",
       "    <tr>\n",
       "      <th>0</th>\n",
       "      <td>80</td>\n",
       "      <td>SQLStatement.execute() - multiple queries in one statement</td>\n",
       "      <td>&lt;p&gt;I've written a database generation script in &lt;a href=\"http://en.wikipedia.org/wiki/SQL\"&gt;SQL&lt;/a&gt; and want to execute it in my &lt;a href=\"http://en.wikipedia.org/wiki/Adobe_Integrated_Runtime\"&gt;Adobe AIR&lt;/a&gt; application:&lt;/p&gt;\\n\\n&lt;pre&gt;&lt;code&gt;Create Table t...</td>\n",
       "      <td>[flex, actionscript-3, air]</td>\n",
       "      <td>3</td>\n",
       "    </tr>\n",
       "    <tr>\n",
       "      <th>1</th>\n",
       "      <td>90</td>\n",
       "      <td>Good branching and merging tutorials for TortoiseSVN?</td>\n",
       "      <td>&lt;p&gt;Are there any really good tutorials explaining &lt;a href=\"http://svnbook.red-bean.com/en/1.8/svn.branchmerge.html\" rel=\"nofollow\"&gt;branching and merging&lt;/a&gt; with Apache Subversion? &lt;/p&gt;\\n\\n&lt;p&gt;All the better if it's specific to TortoiseSVN client.&lt;/p&gt;\\n</td>\n",
       "      <td>[svn, tortoisesvn, branch, branching-and-merging]</td>\n",
       "      <td>4</td>\n",
       "    </tr>\n",
       "    <tr>\n",
       "      <th>2</th>\n",
       "      <td>120</td>\n",
       "      <td>ASP.NET Site Maps</td>\n",
       "      <td>&lt;p&gt;Has anyone got experience creating &lt;strong&gt;SQL-based ASP.NET&lt;/strong&gt; site-map providers?&lt;/p&gt;\\n\\n&lt;p&gt;I've got the default XML file &lt;code&gt;web.sitemap&lt;/code&gt; working properly with my Menu and &lt;strong&gt;SiteMapPath&lt;/strong&gt; controls, but I'll need a way ...</td>\n",
       "      <td>[sql, asp.net, sitemap]</td>\n",
       "      <td>3</td>\n",
       "    </tr>\n",
       "    <tr>\n",
       "      <th>3</th>\n",
       "      <td>180</td>\n",
       "      <td>Function for creating color wheels</td>\n",
       "      <td>&lt;p&gt;This is something I've pseudo-solved many times and never quite found a solution. That's stuck with me. The problem is to come up with a way to generate &lt;code&gt;N&lt;/code&gt; colors, that are as distinguishable as possible where &lt;code&gt;N&lt;/code&gt; is a parame...</td>\n",
       "      <td>[algorithm, language-agnostic, colors, color-space]</td>\n",
       "      <td>4</td>\n",
       "    </tr>\n",
       "    <tr>\n",
       "      <th>4</th>\n",
       "      <td>260</td>\n",
       "      <td>Adding scripting functionality to .NET applications</td>\n",
       "      <td>&lt;p&gt;I have a little game written in C#. It uses a database as back-end. It's \\na &lt;a href=\"http://en.wikipedia.org/wiki/Collectible_card_game\"&gt;trading card game&lt;/a&gt;, and I wanted to implement the function of the cards as a script.&lt;/p&gt;\\n\\n&lt;p&gt;What I mean ...</td>\n",
       "      <td>[c#, .net, scripting, compiler-construction]</td>\n",
       "      <td>4</td>\n",
       "    </tr>\n",
       "  </tbody>\n",
       "</table>\n",
       "</div>"
      ],
      "text/plain": [
       "    id                                                       title  \\\n",
       "0   80  SQLStatement.execute() - multiple queries in one statement   \n",
       "1   90       Good branching and merging tutorials for TortoiseSVN?   \n",
       "2  120                                           ASP.NET Site Maps   \n",
       "3  180                          Function for creating color wheels   \n",
       "4  260         Adding scripting functionality to .NET applications   \n",
       "\n",
       "                                                                                                                                                                                                                                                             body  \\\n",
       "0  <p>I've written a database generation script in <a href=\"http://en.wikipedia.org/wiki/SQL\">SQL</a> and want to execute it in my <a href=\"http://en.wikipedia.org/wiki/Adobe_Integrated_Runtime\">Adobe AIR</a> application:</p>\\n\\n<pre><code>Create Table t...   \n",
       "1    <p>Are there any really good tutorials explaining <a href=\"http://svnbook.red-bean.com/en/1.8/svn.branchmerge.html\" rel=\"nofollow\">branching and merging</a> with Apache Subversion? </p>\\n\\n<p>All the better if it's specific to TortoiseSVN client.</p>\\n   \n",
       "2  <p>Has anyone got experience creating <strong>SQL-based ASP.NET</strong> site-map providers?</p>\\n\\n<p>I've got the default XML file <code>web.sitemap</code> working properly with my Menu and <strong>SiteMapPath</strong> controls, but I'll need a way ...   \n",
       "3  <p>This is something I've pseudo-solved many times and never quite found a solution. That's stuck with me. The problem is to come up with a way to generate <code>N</code> colors, that are as distinguishable as possible where <code>N</code> is a parame...   \n",
       "4  <p>I have a little game written in C#. It uses a database as back-end. It's \\na <a href=\"http://en.wikipedia.org/wiki/Collectible_card_game\">trading card game</a>, and I wanted to implement the function of the cards as a script.</p>\\n\\n<p>What I mean ...   \n",
       "\n",
       "                                                   tag  tag_count  \n",
       "0                          [flex, actionscript-3, air]          3  \n",
       "1    [svn, tortoisesvn, branch, branching-and-merging]          4  \n",
       "2                              [sql, asp.net, sitemap]          3  \n",
       "3  [algorithm, language-agnostic, colors, color-space]          4  \n",
       "4         [c#, .net, scripting, compiler-construction]          4  "
      ]
     },
     "execution_count": 4,
     "metadata": {},
     "output_type": "execute_result"
    }
   ],
   "source": [
    "df.head()"
   ]
  },
  {
   "cell_type": "markdown",
   "id": "7f1c5b30",
   "metadata": {},
   "source": [
    "### Understand text (body, title) length"
   ]
  },
  {
   "cell_type": "code",
   "execution_count": 5,
   "id": "428955f5",
   "metadata": {},
   "outputs": [],
   "source": [
    "min_title_length = df[\"title\"].str.len().min()\n",
    "max_title_length = df[\"title\"].str.len().max()\n",
    "min_body_length = df[\"body\"].str.len().min()\n",
    "max_body_length = df[\"body\"].str.len().max()"
   ]
  },
  {
   "cell_type": "code",
   "execution_count": 6,
   "id": "553afd0f",
   "metadata": {},
   "outputs": [
    {
     "name": "stdout",
     "output_type": "stream",
     "text": [
      "min_title_length: 9\n",
      "max_title_length: 189\n",
      "min_body_length: 18\n",
      "max_body_length: 46489\n"
     ]
    }
   ],
   "source": [
    "print(f\"min_title_length: {min_title_length}\")\n",
    "print(f\"max_title_length: {max_title_length}\")\n",
    "print(f\"min_body_length: {min_body_length}\")\n",
    "print(f\"max_body_length: {max_body_length}\")"
   ]
  },
  {
   "cell_type": "code",
   "execution_count": 7,
   "id": "c24208a2",
   "metadata": {},
   "outputs": [
    {
     "data": {
      "text/html": [
       "<div>\n",
       "<style scoped>\n",
       "    .dataframe tbody tr th:only-of-type {\n",
       "        vertical-align: middle;\n",
       "    }\n",
       "\n",
       "    .dataframe tbody tr th {\n",
       "        vertical-align: top;\n",
       "    }\n",
       "\n",
       "    .dataframe thead th {\n",
       "        text-align: right;\n",
       "    }\n",
       "</style>\n",
       "<table border=\"1\" class=\"dataframe\">\n",
       "  <thead>\n",
       "    <tr style=\"text-align: right;\">\n",
       "      <th></th>\n",
       "      <th>id</th>\n",
       "      <th>title</th>\n",
       "      <th>body</th>\n",
       "      <th>tag</th>\n",
       "      <th>tag_count</th>\n",
       "    </tr>\n",
       "  </thead>\n",
       "  <tbody>\n",
       "    <tr>\n",
       "      <th>9695</th>\n",
       "      <td>622900</td>\n",
       "      <td>C# hashes</td>\n",
       "      <td>&lt;p&gt;I'm new to C#&lt;/p&gt;\\n\\n&lt;blockquote&gt;\\n  &lt;ol&gt;\\n  &lt;li&gt;How do i hash files with C#&lt;/li&gt;\\n  &lt;li&gt;What is available ? (md5, crc, sha1, etc)&lt;/li&gt;\\n  &lt;li&gt;Is there an interface i should inherit?&lt;/li&gt;\\n  &lt;/ol&gt;\\n&lt;/blockquote&gt;\\n\\n&lt;p&gt;Basically i want to checksum m...</td>\n",
       "      <td>[c#, hash]</td>\n",
       "      <td>2</td>\n",
       "    </tr>\n",
       "  </tbody>\n",
       "</table>\n",
       "</div>"
      ],
      "text/plain": [
       "          id      title  \\\n",
       "9695  622900  C# hashes   \n",
       "\n",
       "                                                                                                                                                                                                                                                                body  \\\n",
       "9695  <p>I'm new to C#</p>\\n\\n<blockquote>\\n  <ol>\\n  <li>How do i hash files with C#</li>\\n  <li>What is available ? (md5, crc, sha1, etc)</li>\\n  <li>Is there an interface i should inherit?</li>\\n  </ol>\\n</blockquote>\\n\\n<p>Basically i want to checksum m...   \n",
       "\n",
       "             tag  tag_count  \n",
       "9695  [c#, hash]          2  "
      ]
     },
     "execution_count": 7,
     "metadata": {},
     "output_type": "execute_result"
    }
   ],
   "source": [
    "df[df[\"title\"].str.len() == min_title_length]"
   ]
  },
  {
   "cell_type": "code",
   "execution_count": 8,
   "id": "1a17b855",
   "metadata": {},
   "outputs": [
    {
     "data": {
      "text/html": [
       "<div>\n",
       "<style scoped>\n",
       "    .dataframe tbody tr th:only-of-type {\n",
       "        vertical-align: middle;\n",
       "    }\n",
       "\n",
       "    .dataframe tbody tr th {\n",
       "        vertical-align: top;\n",
       "    }\n",
       "\n",
       "    .dataframe thead th {\n",
       "        text-align: right;\n",
       "    }\n",
       "</style>\n",
       "<table border=\"1\" class=\"dataframe\">\n",
       "  <thead>\n",
       "    <tr style=\"text-align: right;\">\n",
       "      <th></th>\n",
       "      <th>id</th>\n",
       "      <th>title</th>\n",
       "      <th>body</th>\n",
       "      <th>tag</th>\n",
       "      <th>tag_count</th>\n",
       "    </tr>\n",
       "  </thead>\n",
       "  <tbody>\n",
       "    <tr>\n",
       "      <th>694578</th>\n",
       "      <td>23691000</td>\n",
       "      <td>How to convert Office 365 ï¿½Éï¿½ï¿½ï¿½ï¿½é¼ï¿½Ìï¿½ï¿½[ï¿½Uï¿½[ï¿½Ìï¿½ï¿½[ï¿½ï¿½ï¿½{ï¿½bï¿½Nï¿½Xï¿½ÖÌAï¿½Nï¿½Zï¿½Xï¿½ÉÖï¿½ï¿½ï¿½Kï¿½Cï¿½hï¿½`ï¿½ï¿½ï¿½`ï¿½ï¿½ï¿½[ï¿½gï¿½ï¿½ï¿½Aï¿½ï¿½</td>\n",
       "      <td>&lt;p&gt;I am reading source of the following url but the title is coming as bunch of ?? marks, how do I convert it to actual language that the web page is presenting.&lt;/p&gt;\\n\\n&lt;p&gt;&lt;a href=\"http://support.microsoft.com/common/survey.aspx?scid=sw;ja;3703&amp;amp;sh...</td>\n",
       "      <td>[c#, character-encoding]</td>\n",
       "      <td>2</td>\n",
       "    </tr>\n",
       "  </tbody>\n",
       "</table>\n",
       "</div>"
      ],
      "text/plain": [
       "              id  \\\n",
       "694578  23691000   \n",
       "\n",
       "                                                                                                                                                                                                title  \\\n",
       "694578  How to convert Office 365 ï¿½Éï¿½ï¿½ï¿½ï¿½é¼ï¿½Ìï¿½ï¿½[ï¿½Uï¿½[ï¿½Ìï¿½ï¿½[ï¿½ï¿½ï¿½{ï¿½bï¿½Nï¿½Xï¿½ÖÌAï¿½Nï¿½Zï¿½Xï¿½ÉÖï¿½ï¿½ï¿½Kï¿½Cï¿½hï¿½`ï¿½ï¿½ï¿½`ï¿½ï¿½ï¿½[ï¿½gï¿½ï¿½ï¿½Aï¿½ï¿½   \n",
       "\n",
       "                                                                                                                                                                                                                                                                  body  \\\n",
       "694578  <p>I am reading source of the following url but the title is coming as bunch of ?? marks, how do I convert it to actual language that the web page is presenting.</p>\\n\\n<p><a href=\"http://support.microsoft.com/common/survey.aspx?scid=sw;ja;3703&amp;sh...   \n",
       "\n",
       "                             tag  tag_count  \n",
       "694578  [c#, character-encoding]          2  "
      ]
     },
     "execution_count": 8,
     "metadata": {},
     "output_type": "execute_result"
    }
   ],
   "source": [
    "df[df[\"title\"].str.len() == max_title_length]"
   ]
  },
  {
   "cell_type": "markdown",
   "id": "3ea07d83",
   "metadata": {},
   "source": [
    "We can see that the title has an encoding error"
   ]
  },
  {
   "cell_type": "code",
   "execution_count": 9,
   "id": "54119b3f",
   "metadata": {},
   "outputs": [
    {
     "data": {
      "text/html": [
       "<div>\n",
       "<style scoped>\n",
       "    .dataframe tbody tr th:only-of-type {\n",
       "        vertical-align: middle;\n",
       "    }\n",
       "\n",
       "    .dataframe tbody tr th {\n",
       "        vertical-align: top;\n",
       "    }\n",
       "\n",
       "    .dataframe thead th {\n",
       "        text-align: right;\n",
       "    }\n",
       "</style>\n",
       "<table border=\"1\" class=\"dataframe\">\n",
       "  <thead>\n",
       "    <tr style=\"text-align: right;\">\n",
       "      <th></th>\n",
       "      <th>id</th>\n",
       "      <th>title</th>\n",
       "      <th>body</th>\n",
       "      <th>tag</th>\n",
       "      <th>tag_count</th>\n",
       "    </tr>\n",
       "  </thead>\n",
       "  <tbody>\n",
       "    <tr>\n",
       "      <th>14480</th>\n",
       "      <td>858790</td>\n",
       "      <td>How to setup TeamCity under IIS?</td>\n",
       "      <td>&lt;p&gt;Any ideas?&lt;/p&gt;\\n</td>\n",
       "      <td>[version-control, teamcity]</td>\n",
       "      <td>2</td>\n",
       "    </tr>\n",
       "  </tbody>\n",
       "</table>\n",
       "</div>"
      ],
      "text/plain": [
       "           id                             title                 body  \\\n",
       "14480  858790  How to setup TeamCity under IIS?  <p>Any ideas?</p>\\n   \n",
       "\n",
       "                               tag  tag_count  \n",
       "14480  [version-control, teamcity]          2  "
      ]
     },
     "execution_count": 9,
     "metadata": {},
     "output_type": "execute_result"
    }
   ],
   "source": [
    "df[df[\"body\"].str.len() == min_body_length]"
   ]
  },
  {
   "cell_type": "code",
   "execution_count": 10,
   "id": "ca20a260",
   "metadata": {},
   "outputs": [
    {
     "data": {
      "text/html": [
       "<div>\n",
       "<style scoped>\n",
       "    .dataframe tbody tr th:only-of-type {\n",
       "        vertical-align: middle;\n",
       "    }\n",
       "\n",
       "    .dataframe tbody tr th {\n",
       "        vertical-align: top;\n",
       "    }\n",
       "\n",
       "    .dataframe thead th {\n",
       "        text-align: right;\n",
       "    }\n",
       "</style>\n",
       "<table border=\"1\" class=\"dataframe\">\n",
       "  <thead>\n",
       "    <tr style=\"text-align: right;\">\n",
       "      <th></th>\n",
       "      <th>id</th>\n",
       "      <th>title</th>\n",
       "      <th>body</th>\n",
       "      <th>tag</th>\n",
       "      <th>tag_count</th>\n",
       "    </tr>\n",
       "  </thead>\n",
       "  <tbody>\n",
       "    <tr>\n",
       "      <th>1168127</th>\n",
       "      <td>37657980</td>\n",
       "      <td>Elasticsearch - How to provide custom synonyms when querying?</td>\n",
       "      <td>&lt;p&gt;I'm developping a search engine for my client which has to use synonym expansion. I can properly setup my index with a synonym token filter and a custom file (synonym.txt). &lt;/p&gt;\\n\\n&lt;p&gt;Example: ipod, i-pod, i pod&lt;/p&gt;\\n\\n&lt;p&gt;However, whenever we want ...</td>\n",
       "      <td>[elasticsearch]</td>\n",
       "      <td>1</td>\n",
       "    </tr>\n",
       "  </tbody>\n",
       "</table>\n",
       "</div>"
      ],
      "text/plain": [
       "               id  \\\n",
       "1168127  37657980   \n",
       "\n",
       "                                                                 title  \\\n",
       "1168127  Elasticsearch - How to provide custom synonyms when querying?   \n",
       "\n",
       "                                                                                                                                                                                                                                                                   body  \\\n",
       "1168127  <p>I'm developping a search engine for my client which has to use synonym expansion. I can properly setup my index with a synonym token filter and a custom file (synonym.txt). </p>\\n\\n<p>Example: ipod, i-pod, i pod</p>\\n\\n<p>However, whenever we want ...   \n",
       "\n",
       "                     tag  tag_count  \n",
       "1168127  [elasticsearch]          1  "
      ]
     },
     "execution_count": 10,
     "metadata": {},
     "output_type": "execute_result"
    }
   ],
   "source": [
    "df[df[\"body\"].str.len() == max_body_length]"
   ]
  },
  {
   "cell_type": "markdown",
   "id": "91adf333",
   "metadata": {},
   "source": [
    "The actual text of the body is not particularly long, but rather the original poster has included a long portion of code for reference. We need to consider if we want to retain this type of information, as it may deviate the model assumption by a lot."
   ]
  },
  {
   "cell_type": "markdown",
   "id": "128c4053",
   "metadata": {},
   "source": [
    "### 1. Remove HTML tags from body text"
   ]
  },
  {
   "cell_type": "code",
   "execution_count": 11,
   "id": "ecb05541",
   "metadata": {},
   "outputs": [
    {
     "name": "stderr",
     "output_type": "stream",
     "text": [
      "100%|██████████████████████████████████████████████████████████████████████| 1264216/1264216 [06:37<00:00, 3180.71it/s]\n"
     ]
    }
   ],
   "source": [
    "df[\"body\"] = df[\"body\"].progress_apply(lambda text: BeautifulSoup(text, \"lxml\").text)"
   ]
  },
  {
   "cell_type": "code",
   "execution_count": 12,
   "id": "20532a4a",
   "metadata": {},
   "outputs": [
    {
     "data": {
      "text/html": [
       "<div>\n",
       "<style scoped>\n",
       "    .dataframe tbody tr th:only-of-type {\n",
       "        vertical-align: middle;\n",
       "    }\n",
       "\n",
       "    .dataframe tbody tr th {\n",
       "        vertical-align: top;\n",
       "    }\n",
       "\n",
       "    .dataframe thead th {\n",
       "        text-align: right;\n",
       "    }\n",
       "</style>\n",
       "<table border=\"1\" class=\"dataframe\">\n",
       "  <thead>\n",
       "    <tr style=\"text-align: right;\">\n",
       "      <th></th>\n",
       "      <th>id</th>\n",
       "      <th>title</th>\n",
       "      <th>body</th>\n",
       "      <th>tag</th>\n",
       "      <th>tag_count</th>\n",
       "    </tr>\n",
       "  </thead>\n",
       "  <tbody>\n",
       "    <tr>\n",
       "      <th>0</th>\n",
       "      <td>80</td>\n",
       "      <td>SQLStatement.execute() - multiple queries in one statement</td>\n",
       "      <td>I've written a database generation script in SQL and want to execute it in my Adobe AIR application:\\nCreate Table tRole (\\n      roleID integer Primary Key\\n      ,roleName varchar(40)\\n);\\nCreate Table tFile (\\n    fileID integer Primary Key\\n    ,f...</td>\n",
       "      <td>[flex, actionscript-3, air]</td>\n",
       "      <td>3</td>\n",
       "    </tr>\n",
       "    <tr>\n",
       "      <th>1</th>\n",
       "      <td>90</td>\n",
       "      <td>Good branching and merging tutorials for TortoiseSVN?</td>\n",
       "      <td>Are there any really good tutorials explaining branching and merging with Apache Subversion? \\nAll the better if it's specific to TortoiseSVN client.\\n</td>\n",
       "      <td>[svn, tortoisesvn, branch, branching-and-merging]</td>\n",
       "      <td>4</td>\n",
       "    </tr>\n",
       "    <tr>\n",
       "      <th>2</th>\n",
       "      <td>120</td>\n",
       "      <td>ASP.NET Site Maps</td>\n",
       "      <td>Has anyone got experience creating SQL-based ASP.NET site-map providers?\\nI've got the default XML file web.sitemap working properly with my Menu and SiteMapPath controls, but I'll need a way for the users of my site to create and modify pages dynamic...</td>\n",
       "      <td>[sql, asp.net, sitemap]</td>\n",
       "      <td>3</td>\n",
       "    </tr>\n",
       "    <tr>\n",
       "      <th>3</th>\n",
       "      <td>180</td>\n",
       "      <td>Function for creating color wheels</td>\n",
       "      <td>This is something I've pseudo-solved many times and never quite found a solution. That's stuck with me. The problem is to come up with a way to generate N colors, that are as distinguishable as possible where N is a parameter.\\n</td>\n",
       "      <td>[algorithm, language-agnostic, colors, color-space]</td>\n",
       "      <td>4</td>\n",
       "    </tr>\n",
       "    <tr>\n",
       "      <th>4</th>\n",
       "      <td>260</td>\n",
       "      <td>Adding scripting functionality to .NET applications</td>\n",
       "      <td>I have a little game written in C#. It uses a database as back-end. It's \\na trading card game, and I wanted to implement the function of the cards as a script.\\nWhat I mean is that I essentially have an interface, ICard, which a card class implements...</td>\n",
       "      <td>[c#, .net, scripting, compiler-construction]</td>\n",
       "      <td>4</td>\n",
       "    </tr>\n",
       "  </tbody>\n",
       "</table>\n",
       "</div>"
      ],
      "text/plain": [
       "    id                                                       title  \\\n",
       "0   80  SQLStatement.execute() - multiple queries in one statement   \n",
       "1   90       Good branching and merging tutorials for TortoiseSVN?   \n",
       "2  120                                           ASP.NET Site Maps   \n",
       "3  180                          Function for creating color wheels   \n",
       "4  260         Adding scripting functionality to .NET applications   \n",
       "\n",
       "                                                                                                                                                                                                                                                             body  \\\n",
       "0  I've written a database generation script in SQL and want to execute it in my Adobe AIR application:\\nCreate Table tRole (\\n      roleID integer Primary Key\\n      ,roleName varchar(40)\\n);\\nCreate Table tFile (\\n    fileID integer Primary Key\\n    ,f...   \n",
       "1                                                                                                         Are there any really good tutorials explaining branching and merging with Apache Subversion? \\nAll the better if it's specific to TortoiseSVN client.\\n   \n",
       "2  Has anyone got experience creating SQL-based ASP.NET site-map providers?\\nI've got the default XML file web.sitemap working properly with my Menu and SiteMapPath controls, but I'll need a way for the users of my site to create and modify pages dynamic...   \n",
       "3                            This is something I've pseudo-solved many times and never quite found a solution. That's stuck with me. The problem is to come up with a way to generate N colors, that are as distinguishable as possible where N is a parameter.\\n   \n",
       "4  I have a little game written in C#. It uses a database as back-end. It's \\na trading card game, and I wanted to implement the function of the cards as a script.\\nWhat I mean is that I essentially have an interface, ICard, which a card class implements...   \n",
       "\n",
       "                                                   tag  tag_count  \n",
       "0                          [flex, actionscript-3, air]          3  \n",
       "1    [svn, tortoisesvn, branch, branching-and-merging]          4  \n",
       "2                              [sql, asp.net, sitemap]          3  \n",
       "3  [algorithm, language-agnostic, colors, color-space]          4  \n",
       "4         [c#, .net, scripting, compiler-construction]          4  "
      ]
     },
     "execution_count": 12,
     "metadata": {},
     "output_type": "execute_result"
    }
   ],
   "source": [
    "df.head()"
   ]
  },
  {
   "cell_type": "markdown",
   "id": "3ecd47aa",
   "metadata": {},
   "source": [
    "### 2. Check for NaN values"
   ]
  },
  {
   "cell_type": "code",
   "execution_count": 13,
   "id": "525e882b",
   "metadata": {},
   "outputs": [
    {
     "data": {
      "text/plain": [
       "id           0\n",
       "title        0\n",
       "body         0\n",
       "tag          0\n",
       "tag_count    0\n",
       "dtype: int64"
      ]
     },
     "execution_count": 13,
     "metadata": {},
     "output_type": "execute_result"
    }
   ],
   "source": [
    "df.isnull().sum()"
   ]
  },
  {
   "cell_type": "markdown",
   "id": "579fec11",
   "metadata": {},
   "source": [
    "### 3. Remove emojis"
   ]
  },
  {
   "cell_type": "code",
   "execution_count": 14,
   "id": "9a89c414",
   "metadata": {},
   "outputs": [],
   "source": [
    "def deEmojify(body):\n",
    "    regrex_pattern = re.compile(pattern = \"[\"\n",
    "        u\"\\U0001F600-\\U0001F64F\"  # emoticons\n",
    "        u\"\\U0001F300-\\U0001F5FF\"  # symbols & pictographs\n",
    "        u\"\\U0001F680-\\U0001F6FF\"  # transport & map symbols\n",
    "        u\"\\U0001F1E0-\\U0001F1FF\"  # flags (iOS)\n",
    "                           \"]+\", flags = re.UNICODE)\n",
    "    return regrex_pattern.sub(r'',body)"
   ]
  },
  {
   "cell_type": "code",
   "execution_count": 15,
   "id": "5d5ebab7",
   "metadata": {},
   "outputs": [
    {
     "name": "stderr",
     "output_type": "stream",
     "text": [
      "100%|█████████████████████████████████████████████████████████████████████| 1264216/1264216 [00:24<00:00, 51956.94it/s]\n"
     ]
    }
   ],
   "source": [
    "df['body'] = df['body'].progress_apply(deEmojify)"
   ]
  },
  {
   "cell_type": "code",
   "execution_count": 16,
   "id": "3c1580dd",
   "metadata": {},
   "outputs": [
    {
     "name": "stderr",
     "output_type": "stream",
     "text": [
      "100%|████████████████████████████████████████████████████████████████████| 1264216/1264216 [00:03<00:00, 398626.62it/s]\n"
     ]
    }
   ],
   "source": [
    "df['title'] = df['title'].progress_apply(deEmojify)"
   ]
  },
  {
   "cell_type": "code",
   "execution_count": 17,
   "id": "27704198",
   "metadata": {},
   "outputs": [
    {
     "data": {
      "text/html": [
       "<div>\n",
       "<style scoped>\n",
       "    .dataframe tbody tr th:only-of-type {\n",
       "        vertical-align: middle;\n",
       "    }\n",
       "\n",
       "    .dataframe tbody tr th {\n",
       "        vertical-align: top;\n",
       "    }\n",
       "\n",
       "    .dataframe thead th {\n",
       "        text-align: right;\n",
       "    }\n",
       "</style>\n",
       "<table border=\"1\" class=\"dataframe\">\n",
       "  <thead>\n",
       "    <tr style=\"text-align: right;\">\n",
       "      <th></th>\n",
       "      <th>id</th>\n",
       "      <th>title</th>\n",
       "      <th>body</th>\n",
       "      <th>tag</th>\n",
       "      <th>tag_count</th>\n",
       "    </tr>\n",
       "  </thead>\n",
       "  <tbody>\n",
       "    <tr>\n",
       "      <th>0</th>\n",
       "      <td>80</td>\n",
       "      <td>SQLStatement.execute() - multiple queries in one statement</td>\n",
       "      <td>I've written a database generation script in SQL and want to execute it in my Adobe AIR application:\\nCreate Table tRole (\\n      roleID integer Primary Key\\n      ,roleName varchar(40)\\n);\\nCreate Table tFile (\\n    fileID integer Primary Key\\n    ,f...</td>\n",
       "      <td>[flex, actionscript-3, air]</td>\n",
       "      <td>3</td>\n",
       "    </tr>\n",
       "    <tr>\n",
       "      <th>1</th>\n",
       "      <td>90</td>\n",
       "      <td>Good branching and merging tutorials for TortoiseSVN?</td>\n",
       "      <td>Are there any really good tutorials explaining branching and merging with Apache Subversion? \\nAll the better if it's specific to TortoiseSVN client.\\n</td>\n",
       "      <td>[svn, tortoisesvn, branch, branching-and-merging]</td>\n",
       "      <td>4</td>\n",
       "    </tr>\n",
       "    <tr>\n",
       "      <th>2</th>\n",
       "      <td>120</td>\n",
       "      <td>ASP.NET Site Maps</td>\n",
       "      <td>Has anyone got experience creating SQL-based ASP.NET site-map providers?\\nI've got the default XML file web.sitemap working properly with my Menu and SiteMapPath controls, but I'll need a way for the users of my site to create and modify pages dynamic...</td>\n",
       "      <td>[sql, asp.net, sitemap]</td>\n",
       "      <td>3</td>\n",
       "    </tr>\n",
       "    <tr>\n",
       "      <th>3</th>\n",
       "      <td>180</td>\n",
       "      <td>Function for creating color wheels</td>\n",
       "      <td>This is something I've pseudo-solved many times and never quite found a solution. That's stuck with me. The problem is to come up with a way to generate N colors, that are as distinguishable as possible where N is a parameter.\\n</td>\n",
       "      <td>[algorithm, language-agnostic, colors, color-space]</td>\n",
       "      <td>4</td>\n",
       "    </tr>\n",
       "    <tr>\n",
       "      <th>4</th>\n",
       "      <td>260</td>\n",
       "      <td>Adding scripting functionality to .NET applications</td>\n",
       "      <td>I have a little game written in C#. It uses a database as back-end. It's \\na trading card game, and I wanted to implement the function of the cards as a script.\\nWhat I mean is that I essentially have an interface, ICard, which a card class implements...</td>\n",
       "      <td>[c#, .net, scripting, compiler-construction]</td>\n",
       "      <td>4</td>\n",
       "    </tr>\n",
       "  </tbody>\n",
       "</table>\n",
       "</div>"
      ],
      "text/plain": [
       "    id                                                       title  \\\n",
       "0   80  SQLStatement.execute() - multiple queries in one statement   \n",
       "1   90       Good branching and merging tutorials for TortoiseSVN?   \n",
       "2  120                                           ASP.NET Site Maps   \n",
       "3  180                          Function for creating color wheels   \n",
       "4  260         Adding scripting functionality to .NET applications   \n",
       "\n",
       "                                                                                                                                                                                                                                                             body  \\\n",
       "0  I've written a database generation script in SQL and want to execute it in my Adobe AIR application:\\nCreate Table tRole (\\n      roleID integer Primary Key\\n      ,roleName varchar(40)\\n);\\nCreate Table tFile (\\n    fileID integer Primary Key\\n    ,f...   \n",
       "1                                                                                                         Are there any really good tutorials explaining branching and merging with Apache Subversion? \\nAll the better if it's specific to TortoiseSVN client.\\n   \n",
       "2  Has anyone got experience creating SQL-based ASP.NET site-map providers?\\nI've got the default XML file web.sitemap working properly with my Menu and SiteMapPath controls, but I'll need a way for the users of my site to create and modify pages dynamic...   \n",
       "3                            This is something I've pseudo-solved many times and never quite found a solution. That's stuck with me. The problem is to come up with a way to generate N colors, that are as distinguishable as possible where N is a parameter.\\n   \n",
       "4  I have a little game written in C#. It uses a database as back-end. It's \\na trading card game, and I wanted to implement the function of the cards as a script.\\nWhat I mean is that I essentially have an interface, ICard, which a card class implements...   \n",
       "\n",
       "                                                   tag  tag_count  \n",
       "0                          [flex, actionscript-3, air]          3  \n",
       "1    [svn, tortoisesvn, branch, branching-and-merging]          4  \n",
       "2                              [sql, asp.net, sitemap]          3  \n",
       "3  [algorithm, language-agnostic, colors, color-space]          4  \n",
       "4         [c#, .net, scripting, compiler-construction]          4  "
      ]
     },
     "execution_count": 17,
     "metadata": {},
     "output_type": "execute_result"
    }
   ],
   "source": [
    "df.head()"
   ]
  },
  {
   "cell_type": "markdown",
   "id": "0e86819b",
   "metadata": {},
   "source": [
    "###  4. Remove newline and punctuations; tokenize and handle symbols in topics"
   ]
  },
  {
   "cell_type": "code",
   "execution_count": 18,
   "id": "4bb009cb",
   "metadata": {},
   "outputs": [
    {
     "name": "stderr",
     "output_type": "stream",
     "text": [
      "[nltk_data] Downloading package punkt to\n",
      "[nltk_data]     C:\\Users\\sotir\\AppData\\Roaming\\nltk_data...\n",
      "[nltk_data]   Package punkt is already up-to-date!\n",
      "100%|██████████████████████████████████████████████████████████████████████| 1264216/1264216 [20:28<00:00, 1029.09it/s]\n"
     ]
    }
   ],
   "source": [
    "import nltk\n",
    "nltk.download(\"punkt\")\n",
    "\n",
    "# we have to keep a list of topics with symbols or digits that people will actually type in because of how nltk handles word tokenization\n",
    "\n",
    "topics_with_symbols = [\"c#\", \"c++\", \"html5\", \"asp.net\", \"objective-c\", \".net\", \"sql-server\", \"node.js\", \"asp.net-mvc\", \"vb.net\"]\n",
    "\n",
    "\n",
    "df[\"body_tokenized\"] = df[\"body\"].progress_apply(lambda text: [word for word in nltk.word_tokenize(text) \\\n",
    "                                                               if word.isalpha() or word in list(\"#\") + topics_with_symbols])"
   ]
  },
  {
   "cell_type": "code",
   "execution_count": 19,
   "id": "9093b144",
   "metadata": {},
   "outputs": [
    {
     "name": "stderr",
     "output_type": "stream",
     "text": [
      "100%|██████████████████████████████████████████████████████████████████████| 1264216/1264216 [03:10<00:00, 6647.15it/s]\n"
     ]
    }
   ],
   "source": [
    "df[\"title_tokenized\"] = df[\"title\"].progress_apply(lambda text: [word for word in nltk.word_tokenize(text) \\\n",
    "                                                               if word.isalpha() or word in list(\"#\") + topics_with_symbols])"
   ]
  },
  {
   "cell_type": "code",
   "execution_count": 20,
   "id": "bf03af36",
   "metadata": {},
   "outputs": [
    {
     "data": {
      "text/html": [
       "<div>\n",
       "<style scoped>\n",
       "    .dataframe tbody tr th:only-of-type {\n",
       "        vertical-align: middle;\n",
       "    }\n",
       "\n",
       "    .dataframe tbody tr th {\n",
       "        vertical-align: top;\n",
       "    }\n",
       "\n",
       "    .dataframe thead th {\n",
       "        text-align: right;\n",
       "    }\n",
       "</style>\n",
       "<table border=\"1\" class=\"dataframe\">\n",
       "  <thead>\n",
       "    <tr style=\"text-align: right;\">\n",
       "      <th></th>\n",
       "      <th>id</th>\n",
       "      <th>title</th>\n",
       "      <th>body</th>\n",
       "      <th>tag</th>\n",
       "      <th>tag_count</th>\n",
       "      <th>body_tokenized</th>\n",
       "      <th>title_tokenized</th>\n",
       "    </tr>\n",
       "  </thead>\n",
       "  <tbody>\n",
       "    <tr>\n",
       "      <th>0</th>\n",
       "      <td>80</td>\n",
       "      <td>SQLStatement.execute() - multiple queries in one statement</td>\n",
       "      <td>I've written a database generation script in SQL and want to execute it in my Adobe AIR application:\\nCreate Table tRole (\\n      roleID integer Primary Key\\n      ,roleName varchar(40)\\n);\\nCreate Table tFile (\\n    fileID integer Primary Key\\n    ,f...</td>\n",
       "      <td>[flex, actionscript-3, air]</td>\n",
       "      <td>3</td>\n",
       "      <td>[I, written, a, database, generation, script, in, SQL, and, want, to, execute, it, in, my, Adobe, AIR, application, Create, Table, tRole, roleID, integer, Primary, Key, roleName, varchar, Create, Table, tFile, fileID, integer, Primary, Key, fileName, ...</td>\n",
       "      <td>[multiple, queries, in, one, statement]</td>\n",
       "    </tr>\n",
       "    <tr>\n",
       "      <th>1</th>\n",
       "      <td>90</td>\n",
       "      <td>Good branching and merging tutorials for TortoiseSVN?</td>\n",
       "      <td>Are there any really good tutorials explaining branching and merging with Apache Subversion? \\nAll the better if it's specific to TortoiseSVN client.\\n</td>\n",
       "      <td>[svn, tortoisesvn, branch, branching-and-merging]</td>\n",
       "      <td>4</td>\n",
       "      <td>[Are, there, any, really, good, tutorials, explaining, branching, and, merging, with, Apache, Subversion, All, the, better, if, it, specific, to, TortoiseSVN, client]</td>\n",
       "      <td>[Good, branching, and, merging, tutorials, for, TortoiseSVN]</td>\n",
       "    </tr>\n",
       "    <tr>\n",
       "      <th>2</th>\n",
       "      <td>120</td>\n",
       "      <td>ASP.NET Site Maps</td>\n",
       "      <td>Has anyone got experience creating SQL-based ASP.NET site-map providers?\\nI've got the default XML file web.sitemap working properly with my Menu and SiteMapPath controls, but I'll need a way for the users of my site to create and modify pages dynamic...</td>\n",
       "      <td>[sql, asp.net, sitemap]</td>\n",
       "      <td>3</td>\n",
       "      <td>[Has, anyone, got, experience, creating, providers, I, got, the, default, XML, file, working, properly, with, my, Menu, and, SiteMapPath, controls, but, I, need, a, way, for, the, users, of, my, site, to, create, and, modify, pages, dynamically, I, ne...</td>\n",
       "      <td>[Site, Maps]</td>\n",
       "    </tr>\n",
       "    <tr>\n",
       "      <th>3</th>\n",
       "      <td>180</td>\n",
       "      <td>Function for creating color wheels</td>\n",
       "      <td>This is something I've pseudo-solved many times and never quite found a solution. That's stuck with me. The problem is to come up with a way to generate N colors, that are as distinguishable as possible where N is a parameter.\\n</td>\n",
       "      <td>[algorithm, language-agnostic, colors, color-space]</td>\n",
       "      <td>4</td>\n",
       "      <td>[This, is, something, I, many, times, and, never, quite, found, a, solution, That, stuck, with, me, The, problem, is, to, come, up, with, a, way, to, generate, N, colors, that, are, as, distinguishable, as, possible, where, N, is, a, parameter]</td>\n",
       "      <td>[Function, for, creating, color, wheels]</td>\n",
       "    </tr>\n",
       "    <tr>\n",
       "      <th>4</th>\n",
       "      <td>260</td>\n",
       "      <td>Adding scripting functionality to .NET applications</td>\n",
       "      <td>I have a little game written in C#. It uses a database as back-end. It's \\na trading card game, and I wanted to implement the function of the cards as a script.\\nWhat I mean is that I essentially have an interface, ICard, which a card class implements...</td>\n",
       "      <td>[c#, .net, scripting, compiler-construction]</td>\n",
       "      <td>4</td>\n",
       "      <td>[I, have, a, little, game, written, in, C, #, It, uses, a, database, as, It, a, trading, card, game, and, I, wanted, to, implement, the, function, of, the, cards, as, a, script, What, I, mean, is, that, I, essentially, have, an, interface, ICard, whic...</td>\n",
       "      <td>[Adding, scripting, functionality, to, applications]</td>\n",
       "    </tr>\n",
       "  </tbody>\n",
       "</table>\n",
       "</div>"
      ],
      "text/plain": [
       "    id                                                       title  \\\n",
       "0   80  SQLStatement.execute() - multiple queries in one statement   \n",
       "1   90       Good branching and merging tutorials for TortoiseSVN?   \n",
       "2  120                                           ASP.NET Site Maps   \n",
       "3  180                          Function for creating color wheels   \n",
       "4  260         Adding scripting functionality to .NET applications   \n",
       "\n",
       "                                                                                                                                                                                                                                                             body  \\\n",
       "0  I've written a database generation script in SQL and want to execute it in my Adobe AIR application:\\nCreate Table tRole (\\n      roleID integer Primary Key\\n      ,roleName varchar(40)\\n);\\nCreate Table tFile (\\n    fileID integer Primary Key\\n    ,f...   \n",
       "1                                                                                                         Are there any really good tutorials explaining branching and merging with Apache Subversion? \\nAll the better if it's specific to TortoiseSVN client.\\n   \n",
       "2  Has anyone got experience creating SQL-based ASP.NET site-map providers?\\nI've got the default XML file web.sitemap working properly with my Menu and SiteMapPath controls, but I'll need a way for the users of my site to create and modify pages dynamic...   \n",
       "3                            This is something I've pseudo-solved many times and never quite found a solution. That's stuck with me. The problem is to come up with a way to generate N colors, that are as distinguishable as possible where N is a parameter.\\n   \n",
       "4  I have a little game written in C#. It uses a database as back-end. It's \\na trading card game, and I wanted to implement the function of the cards as a script.\\nWhat I mean is that I essentially have an interface, ICard, which a card class implements...   \n",
       "\n",
       "                                                   tag  tag_count  \\\n",
       "0                          [flex, actionscript-3, air]          3   \n",
       "1    [svn, tortoisesvn, branch, branching-and-merging]          4   \n",
       "2                              [sql, asp.net, sitemap]          3   \n",
       "3  [algorithm, language-agnostic, colors, color-space]          4   \n",
       "4         [c#, .net, scripting, compiler-construction]          4   \n",
       "\n",
       "                                                                                                                                                                                                                                                   body_tokenized  \\\n",
       "0  [I, written, a, database, generation, script, in, SQL, and, want, to, execute, it, in, my, Adobe, AIR, application, Create, Table, tRole, roleID, integer, Primary, Key, roleName, varchar, Create, Table, tFile, fileID, integer, Primary, Key, fileName, ...   \n",
       "1                                                                                          [Are, there, any, really, good, tutorials, explaining, branching, and, merging, with, Apache, Subversion, All, the, better, if, it, specific, to, TortoiseSVN, client]   \n",
       "2  [Has, anyone, got, experience, creating, providers, I, got, the, default, XML, file, working, properly, with, my, Menu, and, SiteMapPath, controls, but, I, need, a, way, for, the, users, of, my, site, to, create, and, modify, pages, dynamically, I, ne...   \n",
       "3            [This, is, something, I, many, times, and, never, quite, found, a, solution, That, stuck, with, me, The, problem, is, to, come, up, with, a, way, to, generate, N, colors, that, are, as, distinguishable, as, possible, where, N, is, a, parameter]   \n",
       "4  [I, have, a, little, game, written, in, C, #, It, uses, a, database, as, It, a, trading, card, game, and, I, wanted, to, implement, the, function, of, the, cards, as, a, script, What, I, mean, is, that, I, essentially, have, an, interface, ICard, whic...   \n",
       "\n",
       "                                                title_tokenized  \n",
       "0                       [multiple, queries, in, one, statement]  \n",
       "1  [Good, branching, and, merging, tutorials, for, TortoiseSVN]  \n",
       "2                                                  [Site, Maps]  \n",
       "3                      [Function, for, creating, color, wheels]  \n",
       "4          [Adding, scripting, functionality, to, applications]  "
      ]
     },
     "execution_count": 20,
     "metadata": {},
     "output_type": "execute_result"
    }
   ],
   "source": [
    "df.head()"
   ]
  },
  {
   "cell_type": "markdown",
   "id": "df5d3b8e",
   "metadata": {},
   "source": [
    "### 5. Step to retokenize C# (based on nltk.word_tokenize() behavior)"
   ]
  },
  {
   "cell_type": "markdown",
   "id": "9f8c054f",
   "metadata": {},
   "source": [
    "### 6. Remove stopwords (figured out that I can do in feature engineering step also, as an argument to TfidfVectorizer() and decided to do it there)"
   ]
  },
  {
   "cell_type": "code",
   "execution_count": 21,
   "id": "733993e9",
   "metadata": {},
   "outputs": [
    {
     "name": "stderr",
     "output_type": "stream",
     "text": [
      "[nltk_data] Downloading package stopwords to\n",
      "[nltk_data]     C:\\Users\\sotir\\AppData\\Roaming\\nltk_data...\n",
      "[nltk_data]   Package stopwords is already up-to-date!\n"
     ]
    }
   ],
   "source": [
    "from nltk.corpus import stopwords\n",
    "\n",
    "nltk.download(\"stopwords\")\n",
    "stop_words = set(stopwords.words(\"english\"))\n",
    "\n",
    "def remove_stopwords(words):\n",
    "    words_filtered = []\n",
    "    for word in words:\n",
    "        if word not in stop_words:\n",
    "            words_filtered.append(word)\n",
    "    return words_filtered"
   ]
  },
  {
   "cell_type": "markdown",
   "id": "b15859c1",
   "metadata": {},
   "source": [
    "#### Preliminary test"
   ]
  },
  {
   "cell_type": "code",
   "execution_count": 22,
   "id": "c49532e8",
   "metadata": {},
   "outputs": [
    {
     "name": "stdout",
     "output_type": "stream",
     "text": [
      "Pre stopword removal:  ['Oh', 'man', ',', 'this', 'is', 'pretty', 'cool', '.', 'We', 'will', 'do', 'more', 'such', 'things', '.']\n",
      "Post stopword removal:  ['Oh', 'man', ',', 'pretty', 'cool', '.', 'We', 'things', '.']\n"
     ]
    }
   ],
   "source": [
    "sample_text = \"Oh man, this is pretty cool. We will do more such things.\"\n",
    "text_tokens = nltk.tokenize.word_tokenize(sample_text)\n",
    "\n",
    "tokens_without_sw = remove_stopwords(text_tokens)\n",
    "\n",
    "print(\"Pre stopword removal: \", text_tokens)\n",
    "print(\"Post stopword removal: \", tokens_without_sw) "
   ]
  },
  {
   "cell_type": "code",
   "execution_count": null,
   "id": "8479a174",
   "metadata": {},
   "outputs": [],
   "source": [
    "df[\"body_tokenized\"] = df[\"body_tokenized\"].progress_apply(remove_stopwords)"
   ]
  },
  {
   "cell_type": "code",
   "execution_count": null,
   "id": "77232ac9",
   "metadata": {},
   "outputs": [],
   "source": [
    "df[\"title_tokenized\"] = df[\"title_tokenized\"].progress_apply(remove_stopwords)"
   ]
  },
  {
   "cell_type": "code",
   "execution_count": 23,
   "id": "5e2859b7",
   "metadata": {},
   "outputs": [
    {
     "data": {
      "text/html": [
       "<div>\n",
       "<style scoped>\n",
       "    .dataframe tbody tr th:only-of-type {\n",
       "        vertical-align: middle;\n",
       "    }\n",
       "\n",
       "    .dataframe tbody tr th {\n",
       "        vertical-align: top;\n",
       "    }\n",
       "\n",
       "    .dataframe thead th {\n",
       "        text-align: right;\n",
       "    }\n",
       "</style>\n",
       "<table border=\"1\" class=\"dataframe\">\n",
       "  <thead>\n",
       "    <tr style=\"text-align: right;\">\n",
       "      <th></th>\n",
       "      <th>id</th>\n",
       "      <th>title</th>\n",
       "      <th>body</th>\n",
       "      <th>tag</th>\n",
       "      <th>tag_count</th>\n",
       "      <th>body_tokenized</th>\n",
       "      <th>title_tokenized</th>\n",
       "    </tr>\n",
       "  </thead>\n",
       "  <tbody>\n",
       "    <tr>\n",
       "      <th>0</th>\n",
       "      <td>80</td>\n",
       "      <td>SQLStatement.execute() - multiple queries in one statement</td>\n",
       "      <td>I've written a database generation script in SQL and want to execute it in my Adobe AIR application:\\nCreate Table tRole (\\n      roleID integer Primary Key\\n      ,roleName varchar(40)\\n);\\nCreate Table tFile (\\n    fileID integer Primary Key\\n    ,f...</td>\n",
       "      <td>[flex, actionscript-3, air]</td>\n",
       "      <td>3</td>\n",
       "      <td>[I, written, a, database, generation, script, in, SQL, and, want, to, execute, it, in, my, Adobe, AIR, application, Create, Table, tRole, roleID, integer, Primary, Key, roleName, varchar, Create, Table, tFile, fileID, integer, Primary, Key, fileName, ...</td>\n",
       "      <td>[multiple, queries, in, one, statement]</td>\n",
       "    </tr>\n",
       "    <tr>\n",
       "      <th>1</th>\n",
       "      <td>90</td>\n",
       "      <td>Good branching and merging tutorials for TortoiseSVN?</td>\n",
       "      <td>Are there any really good tutorials explaining branching and merging with Apache Subversion? \\nAll the better if it's specific to TortoiseSVN client.\\n</td>\n",
       "      <td>[svn, tortoisesvn, branch, branching-and-merging]</td>\n",
       "      <td>4</td>\n",
       "      <td>[Are, there, any, really, good, tutorials, explaining, branching, and, merging, with, Apache, Subversion, All, the, better, if, it, specific, to, TortoiseSVN, client]</td>\n",
       "      <td>[Good, branching, and, merging, tutorials, for, TortoiseSVN]</td>\n",
       "    </tr>\n",
       "    <tr>\n",
       "      <th>2</th>\n",
       "      <td>120</td>\n",
       "      <td>ASP.NET Site Maps</td>\n",
       "      <td>Has anyone got experience creating SQL-based ASP.NET site-map providers?\\nI've got the default XML file web.sitemap working properly with my Menu and SiteMapPath controls, but I'll need a way for the users of my site to create and modify pages dynamic...</td>\n",
       "      <td>[sql, asp.net, sitemap]</td>\n",
       "      <td>3</td>\n",
       "      <td>[Has, anyone, got, experience, creating, providers, I, got, the, default, XML, file, working, properly, with, my, Menu, and, SiteMapPath, controls, but, I, need, a, way, for, the, users, of, my, site, to, create, and, modify, pages, dynamically, I, ne...</td>\n",
       "      <td>[Site, Maps]</td>\n",
       "    </tr>\n",
       "    <tr>\n",
       "      <th>3</th>\n",
       "      <td>180</td>\n",
       "      <td>Function for creating color wheels</td>\n",
       "      <td>This is something I've pseudo-solved many times and never quite found a solution. That's stuck with me. The problem is to come up with a way to generate N colors, that are as distinguishable as possible where N is a parameter.\\n</td>\n",
       "      <td>[algorithm, language-agnostic, colors, color-space]</td>\n",
       "      <td>4</td>\n",
       "      <td>[This, is, something, I, many, times, and, never, quite, found, a, solution, That, stuck, with, me, The, problem, is, to, come, up, with, a, way, to, generate, N, colors, that, are, as, distinguishable, as, possible, where, N, is, a, parameter]</td>\n",
       "      <td>[Function, for, creating, color, wheels]</td>\n",
       "    </tr>\n",
       "    <tr>\n",
       "      <th>4</th>\n",
       "      <td>260</td>\n",
       "      <td>Adding scripting functionality to .NET applications</td>\n",
       "      <td>I have a little game written in C#. It uses a database as back-end. It's \\na trading card game, and I wanted to implement the function of the cards as a script.\\nWhat I mean is that I essentially have an interface, ICard, which a card class implements...</td>\n",
       "      <td>[c#, .net, scripting, compiler-construction]</td>\n",
       "      <td>4</td>\n",
       "      <td>[I, have, a, little, game, written, in, C, #, It, uses, a, database, as, It, a, trading, card, game, and, I, wanted, to, implement, the, function, of, the, cards, as, a, script, What, I, mean, is, that, I, essentially, have, an, interface, ICard, whic...</td>\n",
       "      <td>[Adding, scripting, functionality, to, applications]</td>\n",
       "    </tr>\n",
       "  </tbody>\n",
       "</table>\n",
       "</div>"
      ],
      "text/plain": [
       "    id                                                       title  \\\n",
       "0   80  SQLStatement.execute() - multiple queries in one statement   \n",
       "1   90       Good branching and merging tutorials for TortoiseSVN?   \n",
       "2  120                                           ASP.NET Site Maps   \n",
       "3  180                          Function for creating color wheels   \n",
       "4  260         Adding scripting functionality to .NET applications   \n",
       "\n",
       "                                                                                                                                                                                                                                                             body  \\\n",
       "0  I've written a database generation script in SQL and want to execute it in my Adobe AIR application:\\nCreate Table tRole (\\n      roleID integer Primary Key\\n      ,roleName varchar(40)\\n);\\nCreate Table tFile (\\n    fileID integer Primary Key\\n    ,f...   \n",
       "1                                                                                                         Are there any really good tutorials explaining branching and merging with Apache Subversion? \\nAll the better if it's specific to TortoiseSVN client.\\n   \n",
       "2  Has anyone got experience creating SQL-based ASP.NET site-map providers?\\nI've got the default XML file web.sitemap working properly with my Menu and SiteMapPath controls, but I'll need a way for the users of my site to create and modify pages dynamic...   \n",
       "3                            This is something I've pseudo-solved many times and never quite found a solution. That's stuck with me. The problem is to come up with a way to generate N colors, that are as distinguishable as possible where N is a parameter.\\n   \n",
       "4  I have a little game written in C#. It uses a database as back-end. It's \\na trading card game, and I wanted to implement the function of the cards as a script.\\nWhat I mean is that I essentially have an interface, ICard, which a card class implements...   \n",
       "\n",
       "                                                   tag  tag_count  \\\n",
       "0                          [flex, actionscript-3, air]          3   \n",
       "1    [svn, tortoisesvn, branch, branching-and-merging]          4   \n",
       "2                              [sql, asp.net, sitemap]          3   \n",
       "3  [algorithm, language-agnostic, colors, color-space]          4   \n",
       "4         [c#, .net, scripting, compiler-construction]          4   \n",
       "\n",
       "                                                                                                                                                                                                                                                   body_tokenized  \\\n",
       "0  [I, written, a, database, generation, script, in, SQL, and, want, to, execute, it, in, my, Adobe, AIR, application, Create, Table, tRole, roleID, integer, Primary, Key, roleName, varchar, Create, Table, tFile, fileID, integer, Primary, Key, fileName, ...   \n",
       "1                                                                                          [Are, there, any, really, good, tutorials, explaining, branching, and, merging, with, Apache, Subversion, All, the, better, if, it, specific, to, TortoiseSVN, client]   \n",
       "2  [Has, anyone, got, experience, creating, providers, I, got, the, default, XML, file, working, properly, with, my, Menu, and, SiteMapPath, controls, but, I, need, a, way, for, the, users, of, my, site, to, create, and, modify, pages, dynamically, I, ne...   \n",
       "3            [This, is, something, I, many, times, and, never, quite, found, a, solution, That, stuck, with, me, The, problem, is, to, come, up, with, a, way, to, generate, N, colors, that, are, as, distinguishable, as, possible, where, N, is, a, parameter]   \n",
       "4  [I, have, a, little, game, written, in, C, #, It, uses, a, database, as, It, a, trading, card, game, and, I, wanted, to, implement, the, function, of, the, cards, as, a, script, What, I, mean, is, that, I, essentially, have, an, interface, ICard, whic...   \n",
       "\n",
       "                                                title_tokenized  \n",
       "0                       [multiple, queries, in, one, statement]  \n",
       "1  [Good, branching, and, merging, tutorials, for, TortoiseSVN]  \n",
       "2                                                  [Site, Maps]  \n",
       "3                      [Function, for, creating, color, wheels]  \n",
       "4          [Adding, scripting, functionality, to, applications]  "
      ]
     },
     "execution_count": 23,
     "metadata": {},
     "output_type": "execute_result"
    }
   ],
   "source": [
    "df.head()"
   ]
  },
  {
   "cell_type": "markdown",
   "id": "8771bf6b",
   "metadata": {},
   "source": [
    "#### we can apply also stemming (via SnowballStemmer)"
   ]
  },
  {
   "cell_type": "markdown",
   "id": "551c115b",
   "metadata": {},
   "source": [
    "### 6. Single letter Removal (I had this step before i checked that I can remove the stopwords in the feature engineering step. In order to save some time (because in order to remove the stopwords from the whole dataset demanded ~10 hours) I've decided to remove words with length < 2 except '#, C, c')"
   ]
  },
  {
   "cell_type": "code",
   "execution_count": 24,
   "id": "53bc096e",
   "metadata": {},
   "outputs": [],
   "source": [
    "def remove_single_letter(words):\n",
    "    words_filtered = []\n",
    "    for word in words:\n",
    "        if len(word) > 2 or not word.isalpha() or word in [\"C\", \"c\"]:\n",
    "            words_filtered.append(word)\n",
    "    return words_filtered"
   ]
  },
  {
   "cell_type": "code",
   "execution_count": 25,
   "id": "f19685c6",
   "metadata": {},
   "outputs": [
    {
     "name": "stderr",
     "output_type": "stream",
     "text": [
      "100%|█████████████████████████████████████████████████████████████████████| 1264216/1264216 [00:42<00:00, 29978.38it/s]\n"
     ]
    }
   ],
   "source": [
    "df[\"body_tokenized\"] = df[\"body_tokenized\"].progress_apply(remove_single_letter)"
   ]
  },
  {
   "cell_type": "code",
   "execution_count": 26,
   "id": "d270b8de",
   "metadata": {},
   "outputs": [
    {
     "name": "stderr",
     "output_type": "stream",
     "text": [
      "100%|██████████████████████████████████████████████████████████████████████| 1264216/1264216 [02:29<00:00, 8446.04it/s]\n"
     ]
    }
   ],
   "source": [
    "df[\"title_tokenized\"] = df[\"title_tokenized\"].progress_apply(remove_single_letter)"
   ]
  },
  {
   "cell_type": "code",
   "execution_count": 27,
   "id": "8ec9043a",
   "metadata": {},
   "outputs": [
    {
     "data": {
      "text/html": [
       "<div>\n",
       "<style scoped>\n",
       "    .dataframe tbody tr th:only-of-type {\n",
       "        vertical-align: middle;\n",
       "    }\n",
       "\n",
       "    .dataframe tbody tr th {\n",
       "        vertical-align: top;\n",
       "    }\n",
       "\n",
       "    .dataframe thead th {\n",
       "        text-align: right;\n",
       "    }\n",
       "</style>\n",
       "<table border=\"1\" class=\"dataframe\">\n",
       "  <thead>\n",
       "    <tr style=\"text-align: right;\">\n",
       "      <th></th>\n",
       "      <th>id</th>\n",
       "      <th>title</th>\n",
       "      <th>body</th>\n",
       "      <th>tag</th>\n",
       "      <th>tag_count</th>\n",
       "      <th>body_tokenized</th>\n",
       "      <th>title_tokenized</th>\n",
       "    </tr>\n",
       "  </thead>\n",
       "  <tbody>\n",
       "    <tr>\n",
       "      <th>0</th>\n",
       "      <td>80</td>\n",
       "      <td>SQLStatement.execute() - multiple queries in one statement</td>\n",
       "      <td>I've written a database generation script in SQL and want to execute it in my Adobe AIR application:\\nCreate Table tRole (\\n      roleID integer Primary Key\\n      ,roleName varchar(40)\\n);\\nCreate Table tFile (\\n    fileID integer Primary Key\\n    ,f...</td>\n",
       "      <td>[flex, actionscript-3, air]</td>\n",
       "      <td>3</td>\n",
       "      <td>[written, database, generation, script, SQL, and, want, execute, Adobe, AIR, application, Create, Table, tRole, roleID, integer, Primary, Key, roleName, varchar, Create, Table, tFile, fileID, integer, Primary, Key, fileName, varchar, fileDescription, ...</td>\n",
       "      <td>[multiple, queries, one, statement]</td>\n",
       "    </tr>\n",
       "    <tr>\n",
       "      <th>1</th>\n",
       "      <td>90</td>\n",
       "      <td>Good branching and merging tutorials for TortoiseSVN?</td>\n",
       "      <td>Are there any really good tutorials explaining branching and merging with Apache Subversion? \\nAll the better if it's specific to TortoiseSVN client.\\n</td>\n",
       "      <td>[svn, tortoisesvn, branch, branching-and-merging]</td>\n",
       "      <td>4</td>\n",
       "      <td>[Are, there, any, really, good, tutorials, explaining, branching, and, merging, with, Apache, Subversion, All, the, better, specific, TortoiseSVN, client]</td>\n",
       "      <td>[Good, branching, and, merging, tutorials, for, TortoiseSVN]</td>\n",
       "    </tr>\n",
       "    <tr>\n",
       "      <th>2</th>\n",
       "      <td>120</td>\n",
       "      <td>ASP.NET Site Maps</td>\n",
       "      <td>Has anyone got experience creating SQL-based ASP.NET site-map providers?\\nI've got the default XML file web.sitemap working properly with my Menu and SiteMapPath controls, but I'll need a way for the users of my site to create and modify pages dynamic...</td>\n",
       "      <td>[sql, asp.net, sitemap]</td>\n",
       "      <td>3</td>\n",
       "      <td>[Has, anyone, got, experience, creating, providers, got, the, default, XML, file, working, properly, with, Menu, and, SiteMapPath, controls, but, need, way, for, the, users, site, create, and, modify, pages, dynamically, need, tie, page, viewing, perm...</td>\n",
       "      <td>[Site, Maps]</td>\n",
       "    </tr>\n",
       "    <tr>\n",
       "      <th>3</th>\n",
       "      <td>180</td>\n",
       "      <td>Function for creating color wheels</td>\n",
       "      <td>This is something I've pseudo-solved many times and never quite found a solution. That's stuck with me. The problem is to come up with a way to generate N colors, that are as distinguishable as possible where N is a parameter.\\n</td>\n",
       "      <td>[algorithm, language-agnostic, colors, color-space]</td>\n",
       "      <td>4</td>\n",
       "      <td>[This, something, many, times, and, never, quite, found, solution, That, stuck, with, The, problem, come, with, way, generate, colors, that, are, distinguishable, possible, where, parameter]</td>\n",
       "      <td>[Function, for, creating, color, wheels]</td>\n",
       "    </tr>\n",
       "    <tr>\n",
       "      <th>4</th>\n",
       "      <td>260</td>\n",
       "      <td>Adding scripting functionality to .NET applications</td>\n",
       "      <td>I have a little game written in C#. It uses a database as back-end. It's \\na trading card game, and I wanted to implement the function of the cards as a script.\\nWhat I mean is that I essentially have an interface, ICard, which a card class implements...</td>\n",
       "      <td>[c#, .net, scripting, compiler-construction]</td>\n",
       "      <td>4</td>\n",
       "      <td>[have, little, game, written, C, #, uses, database, trading, card, game, and, wanted, implement, the, function, the, cards, script, What, mean, that, essentially, have, interface, ICard, which, card, class, implements, public, class, ICard, and, which...</td>\n",
       "      <td>[Adding, scripting, functionality, applications]</td>\n",
       "    </tr>\n",
       "  </tbody>\n",
       "</table>\n",
       "</div>"
      ],
      "text/plain": [
       "    id                                                       title  \\\n",
       "0   80  SQLStatement.execute() - multiple queries in one statement   \n",
       "1   90       Good branching and merging tutorials for TortoiseSVN?   \n",
       "2  120                                           ASP.NET Site Maps   \n",
       "3  180                          Function for creating color wheels   \n",
       "4  260         Adding scripting functionality to .NET applications   \n",
       "\n",
       "                                                                                                                                                                                                                                                             body  \\\n",
       "0  I've written a database generation script in SQL and want to execute it in my Adobe AIR application:\\nCreate Table tRole (\\n      roleID integer Primary Key\\n      ,roleName varchar(40)\\n);\\nCreate Table tFile (\\n    fileID integer Primary Key\\n    ,f...   \n",
       "1                                                                                                         Are there any really good tutorials explaining branching and merging with Apache Subversion? \\nAll the better if it's specific to TortoiseSVN client.\\n   \n",
       "2  Has anyone got experience creating SQL-based ASP.NET site-map providers?\\nI've got the default XML file web.sitemap working properly with my Menu and SiteMapPath controls, but I'll need a way for the users of my site to create and modify pages dynamic...   \n",
       "3                            This is something I've pseudo-solved many times and never quite found a solution. That's stuck with me. The problem is to come up with a way to generate N colors, that are as distinguishable as possible where N is a parameter.\\n   \n",
       "4  I have a little game written in C#. It uses a database as back-end. It's \\na trading card game, and I wanted to implement the function of the cards as a script.\\nWhat I mean is that I essentially have an interface, ICard, which a card class implements...   \n",
       "\n",
       "                                                   tag  tag_count  \\\n",
       "0                          [flex, actionscript-3, air]          3   \n",
       "1    [svn, tortoisesvn, branch, branching-and-merging]          4   \n",
       "2                              [sql, asp.net, sitemap]          3   \n",
       "3  [algorithm, language-agnostic, colors, color-space]          4   \n",
       "4         [c#, .net, scripting, compiler-construction]          4   \n",
       "\n",
       "                                                                                                                                                                                                                                                   body_tokenized  \\\n",
       "0  [written, database, generation, script, SQL, and, want, execute, Adobe, AIR, application, Create, Table, tRole, roleID, integer, Primary, Key, roleName, varchar, Create, Table, tFile, fileID, integer, Primary, Key, fileName, varchar, fileDescription, ...   \n",
       "1                                                                                                      [Are, there, any, really, good, tutorials, explaining, branching, and, merging, with, Apache, Subversion, All, the, better, specific, TortoiseSVN, client]   \n",
       "2  [Has, anyone, got, experience, creating, providers, got, the, default, XML, file, working, properly, with, Menu, and, SiteMapPath, controls, but, need, way, for, the, users, site, create, and, modify, pages, dynamically, need, tie, page, viewing, perm...   \n",
       "3                                                                  [This, something, many, times, and, never, quite, found, solution, That, stuck, with, The, problem, come, with, way, generate, colors, that, are, distinguishable, possible, where, parameter]   \n",
       "4  [have, little, game, written, C, #, uses, database, trading, card, game, and, wanted, implement, the, function, the, cards, script, What, mean, that, essentially, have, interface, ICard, which, card, class, implements, public, class, ICard, and, which...   \n",
       "\n",
       "                                                title_tokenized  \n",
       "0                           [multiple, queries, one, statement]  \n",
       "1  [Good, branching, and, merging, tutorials, for, TortoiseSVN]  \n",
       "2                                                  [Site, Maps]  \n",
       "3                      [Function, for, creating, color, wheels]  \n",
       "4              [Adding, scripting, functionality, applications]  "
      ]
     },
     "execution_count": 27,
     "metadata": {},
     "output_type": "execute_result"
    }
   ],
   "source": [
    "df.head()"
   ]
  },
  {
   "cell_type": "markdown",
   "id": "23e600bd",
   "metadata": {},
   "source": [
    "### 7. Save preprocessed dataset"
   ]
  },
  {
   "cell_type": "code",
   "execution_count": 28,
   "id": "f7d1b961",
   "metadata": {},
   "outputs": [],
   "source": [
    "# checkpoint\n",
    "df.rename(columns={\"tag\": \"tags\"}, inplace=True)\n",
    "df[[\"id\", \"title_tokenized\", \"body_tokenized\", \"tags\"]].to_pickle(f\"{data_dir}/preprocessed.pkl\")"
   ]
  }
 ],
 "metadata": {
  "kernelspec": {
   "display_name": "Python 3 (ipykernel)",
   "language": "python",
   "name": "python3"
  },
  "language_info": {
   "codemirror_mode": {
    "name": "ipython",
    "version": 3
   },
   "file_extension": ".py",
   "mimetype": "text/x-python",
   "name": "python",
   "nbconvert_exporter": "python",
   "pygments_lexer": "ipython3",
   "version": "3.9.7"
  }
 },
 "nbformat": 4,
 "nbformat_minor": 5
}
