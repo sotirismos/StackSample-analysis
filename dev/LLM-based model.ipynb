{
 "cells": [
  {
   "cell_type": "code",
   "execution_count": 1,
   "id": "5107f1de",
   "metadata": {},
   "outputs": [],
   "source": [
    "import os\n",
    "import joblib\n",
    "\n",
    "project_dir = os.getcwd()\n",
    "data_dir = os.path.join(project_dir, \"data\")\n",
    "model_dir = os.path.join(project_dir, \"model\")"
   ]
  },
  {
   "cell_type": "code",
   "execution_count": 2,
   "id": "d339a4e6",
   "metadata": {},
   "outputs": [],
   "source": [
    "import pandas as pd\n",
    "from tqdm import tqdm\n",
    "\n",
    "pd.options.display.max_colwidth = 255\n",
    "tqdm.pandas()"
   ]
  },
  {
   "cell_type": "code",
   "execution_count": 3,
   "id": "10b65f4c",
   "metadata": {},
   "outputs": [],
   "source": [
    "df = pd.read_pickle(f\"{data_dir}/preprocessed.pkl\")"
   ]
  },
  {
   "cell_type": "code",
   "execution_count": 4,
   "id": "24589362",
   "metadata": {},
   "outputs": [
    {
     "data": {
      "text/html": [
       "<div>\n",
       "<style scoped>\n",
       "    .dataframe tbody tr th:only-of-type {\n",
       "        vertical-align: middle;\n",
       "    }\n",
       "\n",
       "    .dataframe tbody tr th {\n",
       "        vertical-align: top;\n",
       "    }\n",
       "\n",
       "    .dataframe thead th {\n",
       "        text-align: right;\n",
       "    }\n",
       "</style>\n",
       "<table border=\"1\" class=\"dataframe\">\n",
       "  <thead>\n",
       "    <tr style=\"text-align: right;\">\n",
       "      <th></th>\n",
       "      <th>id</th>\n",
       "      <th>title_tokenized</th>\n",
       "      <th>body_tokenized</th>\n",
       "      <th>tags</th>\n",
       "    </tr>\n",
       "  </thead>\n",
       "  <tbody>\n",
       "    <tr>\n",
       "      <th>0</th>\n",
       "      <td>80</td>\n",
       "      <td>[multiple, queries, one, statement]</td>\n",
       "      <td>[written, database, generation, script, SQL, and, want, execute, Adobe, AIR, application, Create, Table, tRole, roleID, integer, Primary, Key, roleName, varchar, Create, Table, tFile, fileID, integer, Primary, Key, fileName, varchar, fileDescription, ...</td>\n",
       "      <td>[flex, actionscript-3, air]</td>\n",
       "    </tr>\n",
       "    <tr>\n",
       "      <th>1</th>\n",
       "      <td>90</td>\n",
       "      <td>[Good, branching, and, merging, tutorials, for, TortoiseSVN]</td>\n",
       "      <td>[Are, there, any, really, good, tutorials, explaining, branching, and, merging, with, Apache, Subversion, All, the, better, specific, TortoiseSVN, client]</td>\n",
       "      <td>[svn, tortoisesvn, branch, branching-and-merging]</td>\n",
       "    </tr>\n",
       "    <tr>\n",
       "      <th>2</th>\n",
       "      <td>120</td>\n",
       "      <td>[Site, Maps]</td>\n",
       "      <td>[Has, anyone, got, experience, creating, providers, got, the, default, XML, file, working, properly, with, Menu, and, SiteMapPath, controls, but, need, way, for, the, users, site, create, and, modify, pages, dynamically, need, tie, page, viewing, perm...</td>\n",
       "      <td>[sql, asp.net, sitemap]</td>\n",
       "    </tr>\n",
       "    <tr>\n",
       "      <th>3</th>\n",
       "      <td>180</td>\n",
       "      <td>[Function, for, creating, color, wheels]</td>\n",
       "      <td>[This, something, many, times, and, never, quite, found, solution, That, stuck, with, The, problem, come, with, way, generate, colors, that, are, distinguishable, possible, where, parameter]</td>\n",
       "      <td>[algorithm, language-agnostic, colors, color-space]</td>\n",
       "    </tr>\n",
       "    <tr>\n",
       "      <th>4</th>\n",
       "      <td>260</td>\n",
       "      <td>[Adding, scripting, functionality, applications]</td>\n",
       "      <td>[have, little, game, written, C, #, uses, database, trading, card, game, and, wanted, implement, the, function, the, cards, script, What, mean, that, essentially, have, interface, ICard, which, card, class, implements, public, class, ICard, and, which...</td>\n",
       "      <td>[c#, .net, scripting, compiler-construction]</td>\n",
       "    </tr>\n",
       "  </tbody>\n",
       "</table>\n",
       "</div>"
      ],
      "text/plain": [
       "    id                                               title_tokenized  \\\n",
       "0   80                           [multiple, queries, one, statement]   \n",
       "1   90  [Good, branching, and, merging, tutorials, for, TortoiseSVN]   \n",
       "2  120                                                  [Site, Maps]   \n",
       "3  180                      [Function, for, creating, color, wheels]   \n",
       "4  260              [Adding, scripting, functionality, applications]   \n",
       "\n",
       "                                                                                                                                                                                                                                                   body_tokenized  \\\n",
       "0  [written, database, generation, script, SQL, and, want, execute, Adobe, AIR, application, Create, Table, tRole, roleID, integer, Primary, Key, roleName, varchar, Create, Table, tFile, fileID, integer, Primary, Key, fileName, varchar, fileDescription, ...   \n",
       "1                                                                                                      [Are, there, any, really, good, tutorials, explaining, branching, and, merging, with, Apache, Subversion, All, the, better, specific, TortoiseSVN, client]   \n",
       "2  [Has, anyone, got, experience, creating, providers, got, the, default, XML, file, working, properly, with, Menu, and, SiteMapPath, controls, but, need, way, for, the, users, site, create, and, modify, pages, dynamically, need, tie, page, viewing, perm...   \n",
       "3                                                                  [This, something, many, times, and, never, quite, found, solution, That, stuck, with, The, problem, come, with, way, generate, colors, that, are, distinguishable, possible, where, parameter]   \n",
       "4  [have, little, game, written, C, #, uses, database, trading, card, game, and, wanted, implement, the, function, the, cards, script, What, mean, that, essentially, have, interface, ICard, which, card, class, implements, public, class, ICard, and, which...   \n",
       "\n",
       "                                                  tags  \n",
       "0                          [flex, actionscript-3, air]  \n",
       "1    [svn, tortoisesvn, branch, branching-and-merging]  \n",
       "2                              [sql, asp.net, sitemap]  \n",
       "3  [algorithm, language-agnostic, colors, color-space]  \n",
       "4         [c#, .net, scripting, compiler-construction]  "
      ]
     },
     "execution_count": 4,
     "metadata": {},
     "output_type": "execute_result"
    }
   ],
   "source": [
    "df.head()"
   ]
  },
  {
   "cell_type": "markdown",
   "id": "31a3edc4",
   "metadata": {},
   "source": [
    "### Number of tags (i.e. classes)"
   ]
  },
  {
   "cell_type": "code",
   "execution_count": 5,
   "id": "bc6136fa",
   "metadata": {},
   "outputs": [
    {
     "data": {
      "text/plain": [
       "38146"
      ]
     },
     "execution_count": 5,
     "metadata": {},
     "output_type": "execute_result"
    }
   ],
   "source": [
    "from collections import Counter\n",
    "\n",
    "tag_count = Counter()\n",
    "\n",
    "def count_tag(tags):\n",
    "    for tag in tags:\n",
    "        tag_count[tag] += 1\n",
    "\n",
    "df[\"tags\"].apply(count_tag)\n",
    "\n",
    "len(tag_count.values())"
   ]
  },
  {
   "cell_type": "code",
   "execution_count": 6,
   "id": "5243b3f0",
   "metadata": {},
   "outputs": [
    {
     "name": "stderr",
     "output_type": "stream",
     "text": [
      "100%|████████████████████████████████████████████████████████████████████| 1264216/1264216 [00:04<00:00, 285746.00it/s]\n"
     ]
    }
   ],
   "source": [
    "most_common_tags = [count[0] for count in tag_count.most_common(20)]\n",
    "df[\"tags\"] = df[\"tags\"].progress_apply(lambda tags: [tag for tag in tags if tag in most_common_tags])"
   ]
  },
  {
   "cell_type": "code",
   "execution_count": 7,
   "id": "7779d091",
   "metadata": {},
   "outputs": [
    {
     "data": {
      "text/plain": [
       "(850988, 4)"
      ]
     },
     "execution_count": 7,
     "metadata": {},
     "output_type": "execute_result"
    }
   ],
   "source": [
    "df[df[\"tags\"].map(lambda tags: len(tags) > 0)].shape"
   ]
  },
  {
   "cell_type": "code",
   "execution_count": 8,
   "id": "029ae5e0",
   "metadata": {},
   "outputs": [
    {
     "name": "stdout",
     "output_type": "stream",
     "text": [
      "Only 413,228 rows of data will be dropped while number of classes is reduced from 38,146 to 20!\n"
     ]
    }
   ],
   "source": [
    "print(f\"Only {1264216 - 850988:,} rows of data will be dropped while number of classes is reduced from {len(tag_count.values()):,} to 20!\")"
   ]
  },
  {
   "cell_type": "code",
   "execution_count": 9,
   "id": "42c3d165",
   "metadata": {},
   "outputs": [],
   "source": [
    "df = df[df[\"tags\"].map(lambda tags: len(tags) > 0)]"
   ]
  },
  {
   "cell_type": "markdown",
   "id": "67ba5a79",
   "metadata": {},
   "source": [
    "### Untokenize text in order to use LLM-specific tokenizer"
   ]
  },
  {
   "cell_type": "code",
   "execution_count": 10,
   "id": "d1220d88",
   "metadata": {},
   "outputs": [],
   "source": [
    " def untokenize(text):\n",
    "    untokenized_text = ' '.join([word for word in text])\n",
    "    return untokenized_text"
   ]
  },
  {
   "cell_type": "code",
   "execution_count": 11,
   "id": "334095e1",
   "metadata": {},
   "outputs": [],
   "source": [
    "df['body'] = df['body_tokenized'].apply(untokenize)\n",
    "df['title'] = df['title_tokenized'].apply(untokenize)"
   ]
  },
  {
   "cell_type": "code",
   "execution_count": 12,
   "id": "6ac1ff4c",
   "metadata": {},
   "outputs": [
    {
     "data": {
      "text/html": [
       "<div>\n",
       "<style scoped>\n",
       "    .dataframe tbody tr th:only-of-type {\n",
       "        vertical-align: middle;\n",
       "    }\n",
       "\n",
       "    .dataframe tbody tr th {\n",
       "        vertical-align: top;\n",
       "    }\n",
       "\n",
       "    .dataframe thead th {\n",
       "        text-align: right;\n",
       "    }\n",
       "</style>\n",
       "<table border=\"1\" class=\"dataframe\">\n",
       "  <thead>\n",
       "    <tr style=\"text-align: right;\">\n",
       "      <th></th>\n",
       "      <th>id</th>\n",
       "      <th>title_tokenized</th>\n",
       "      <th>body_tokenized</th>\n",
       "      <th>tags</th>\n",
       "      <th>body</th>\n",
       "      <th>title</th>\n",
       "    </tr>\n",
       "  </thead>\n",
       "  <tbody>\n",
       "    <tr>\n",
       "      <th>2</th>\n",
       "      <td>120</td>\n",
       "      <td>[Site, Maps]</td>\n",
       "      <td>[Has, anyone, got, experience, creating, providers, got, the, default, XML, file, working, properly, with, Menu, and, SiteMapPath, controls, but, need, way, for, the, users, site, create, and, modify, pages, dynamically, need, tie, page, viewing, perm...</td>\n",
       "      <td>[sql, asp.net]</td>\n",
       "      <td>Has anyone got experience creating providers got the default XML file working properly with Menu and SiteMapPath controls but need way for the users site create and modify pages dynamically need tie page viewing permissions into the standard membershi...</td>\n",
       "      <td>Site Maps</td>\n",
       "    </tr>\n",
       "    <tr>\n",
       "      <th>4</th>\n",
       "      <td>260</td>\n",
       "      <td>[Adding, scripting, functionality, applications]</td>\n",
       "      <td>[have, little, game, written, C, #, uses, database, trading, card, game, and, wanted, implement, the, function, the, cards, script, What, mean, that, essentially, have, interface, ICard, which, card, class, implements, public, class, ICard, and, which...</td>\n",
       "      <td>[c#, .net]</td>\n",
       "      <td>have little game written C # uses database trading card game and wanted implement the function the cards script What mean that essentially have interface ICard which card class implements public class ICard and which contains function that are called ...</td>\n",
       "      <td>Adding scripting functionality applications</td>\n",
       "    </tr>\n",
       "    <tr>\n",
       "      <th>5</th>\n",
       "      <td>330</td>\n",
       "      <td>[Should, use, nested, classes, this, case]</td>\n",
       "      <td>[working, collection, classes, used, for, video, playback, and, recording, have, one, main, class, which, acts, like, the, public, interface, with, methods, like, play, stop, pause, record, etc, Then, have, workhorse, classes, which, the, video, decod...</td>\n",
       "      <td>[c++]</td>\n",
       "      <td>working collection classes used for video playback and recording have one main class which acts like the public interface with methods like play stop pause record etc Then have workhorse classes which the video decoding and video encoding just learned...</td>\n",
       "      <td>Should use nested classes this case</td>\n",
       "    </tr>\n",
       "    <tr>\n",
       "      <th>6</th>\n",
       "      <td>470</td>\n",
       "      <td>[Homegrown, consumption, web, services]</td>\n",
       "      <td>[been, writing, few, web, services, for, .net, app, now, ready, consume, them, seen, numerous, examples, where, there, homegrown, code, for, consuming, the, service, opposed, using, the, auto, generated, methods, Visual, Studio, creates, when, adding,...</td>\n",
       "      <td>[.net]</td>\n",
       "      <td>been writing few web services for .net app now ready consume them seen numerous examples where there homegrown code for consuming the service opposed using the auto generated methods Visual Studio creates when adding the web reference there some advan...</td>\n",
       "      <td>Homegrown consumption web services</td>\n",
       "    </tr>\n",
       "    <tr>\n",
       "      <th>8</th>\n",
       "      <td>650</td>\n",
       "      <td>[Automatically, update, version, number]</td>\n",
       "      <td>[would, like, the, version, property, application, incremented, for, each, build, but, not, sure, how, enable, this, functionality, Visual, Studio, have, tried, specify, the, AssemblyVersion, but, does, get, exactly, what, want, also, using, settings,...</td>\n",
       "      <td>[c#]</td>\n",
       "      <td>would like the version property application incremented for each build but not sure how enable this functionality Visual Studio have tried specify the AssemblyVersion but does get exactly what want also using settings file and earlier attempts when th...</td>\n",
       "      <td>Automatically update version number</td>\n",
       "    </tr>\n",
       "  </tbody>\n",
       "</table>\n",
       "</div>"
      ],
      "text/plain": [
       "    id                                   title_tokenized  \\\n",
       "2  120                                      [Site, Maps]   \n",
       "4  260  [Adding, scripting, functionality, applications]   \n",
       "5  330        [Should, use, nested, classes, this, case]   \n",
       "6  470           [Homegrown, consumption, web, services]   \n",
       "8  650          [Automatically, update, version, number]   \n",
       "\n",
       "                                                                                                                                                                                                                                                   body_tokenized  \\\n",
       "2  [Has, anyone, got, experience, creating, providers, got, the, default, XML, file, working, properly, with, Menu, and, SiteMapPath, controls, but, need, way, for, the, users, site, create, and, modify, pages, dynamically, need, tie, page, viewing, perm...   \n",
       "4  [have, little, game, written, C, #, uses, database, trading, card, game, and, wanted, implement, the, function, the, cards, script, What, mean, that, essentially, have, interface, ICard, which, card, class, implements, public, class, ICard, and, which...   \n",
       "5  [working, collection, classes, used, for, video, playback, and, recording, have, one, main, class, which, acts, like, the, public, interface, with, methods, like, play, stop, pause, record, etc, Then, have, workhorse, classes, which, the, video, decod...   \n",
       "6  [been, writing, few, web, services, for, .net, app, now, ready, consume, them, seen, numerous, examples, where, there, homegrown, code, for, consuming, the, service, opposed, using, the, auto, generated, methods, Visual, Studio, creates, when, adding,...   \n",
       "8  [would, like, the, version, property, application, incremented, for, each, build, but, not, sure, how, enable, this, functionality, Visual, Studio, have, tried, specify, the, AssemblyVersion, but, does, get, exactly, what, want, also, using, settings,...   \n",
       "\n",
       "             tags  \\\n",
       "2  [sql, asp.net]   \n",
       "4      [c#, .net]   \n",
       "5           [c++]   \n",
       "6          [.net]   \n",
       "8            [c#]   \n",
       "\n",
       "                                                                                                                                                                                                                                                             body  \\\n",
       "2  Has anyone got experience creating providers got the default XML file working properly with Menu and SiteMapPath controls but need way for the users site create and modify pages dynamically need tie page viewing permissions into the standard membershi...   \n",
       "4  have little game written C # uses database trading card game and wanted implement the function the cards script What mean that essentially have interface ICard which card class implements public class ICard and which contains function that are called ...   \n",
       "5  working collection classes used for video playback and recording have one main class which acts like the public interface with methods like play stop pause record etc Then have workhorse classes which the video decoding and video encoding just learned...   \n",
       "6  been writing few web services for .net app now ready consume them seen numerous examples where there homegrown code for consuming the service opposed using the auto generated methods Visual Studio creates when adding the web reference there some advan...   \n",
       "8  would like the version property application incremented for each build but not sure how enable this functionality Visual Studio have tried specify the AssemblyVersion but does get exactly what want also using settings file and earlier attempts when th...   \n",
       "\n",
       "                                         title  \n",
       "2                                    Site Maps  \n",
       "4  Adding scripting functionality applications  \n",
       "5          Should use nested classes this case  \n",
       "6           Homegrown consumption web services  \n",
       "8          Automatically update version number  "
      ]
     },
     "execution_count": 12,
     "metadata": {},
     "output_type": "execute_result"
    }
   ],
   "source": [
    "df.head()"
   ]
  },
  {
   "cell_type": "markdown",
   "id": "65d21d2a",
   "metadata": {},
   "source": [
    "### Concatenate 'title' and 'body' columns"
   ]
  },
  {
   "cell_type": "code",
   "execution_count": 13,
   "id": "13d407dc",
   "metadata": {},
   "outputs": [],
   "source": [
    "df['text'] = df['title'] + ' ' + df['body']"
   ]
  },
  {
   "cell_type": "markdown",
   "id": "5c946d9f",
   "metadata": {},
   "source": [
    "#### Drop unwanted columns"
   ]
  },
  {
   "cell_type": "code",
   "execution_count": 14,
   "id": "5ee4a083",
   "metadata": {},
   "outputs": [],
   "source": [
    "del df['title']\n",
    "del df['title_tokenized']\n",
    "del df['body']\n",
    "del df['body_tokenized']"
   ]
  },
  {
   "cell_type": "code",
   "execution_count": 15,
   "id": "147ac148",
   "metadata": {},
   "outputs": [],
   "source": [
    "X = df[[\"text\"]] \n",
    "y = df[[\"tags\"]]"
   ]
  },
  {
   "cell_type": "code",
   "execution_count": 16,
   "id": "bcfd8f1f",
   "metadata": {},
   "outputs": [],
   "source": [
    "from sklearn.preprocessing import MultiLabelBinarizer\n",
    "\n",
    "multi_label_binarizer = MultiLabelBinarizer()\n",
    "y = multi_label_binarizer.fit_transform(y[\"tags\"])"
   ]
  },
  {
   "cell_type": "markdown",
   "id": "1332a04a",
   "metadata": {},
   "source": [
    "### Train, val, test split"
   ]
  },
  {
   "cell_type": "code",
   "execution_count": 17,
   "id": "1e10a020",
   "metadata": {},
   "outputs": [],
   "source": [
    "train_ratio = 0.8\n",
    "val_ratio = 0.1\n",
    "test_ratio = 0.1"
   ]
  },
  {
   "cell_type": "code",
   "execution_count": 18,
   "id": "00bc0c94",
   "metadata": {},
   "outputs": [],
   "source": [
    "from sklearn.model_selection import train_test_split\n",
    "\n",
    "X_train, X_test, y_train, y_test = train_test_split(X, y, test_size=1 - train_ratio, random_state=0)"
   ]
  },
  {
   "cell_type": "code",
   "execution_count": 19,
   "id": "16730993",
   "metadata": {},
   "outputs": [
    {
     "name": "stdout",
     "output_type": "stream",
     "text": [
      "Train Set Class Distribution (%):\n",
      "Class 0: 2.83%\n",
      "Class 1: 10.67%\n",
      "Class 2: 2.39%\n",
      "Class 3: 3.52%\n",
      "Class 4: 2.73%\n",
      "Class 5: 11.89%\n",
      "Class 6: 5.59%\n",
      "Class 7: 4.97%\n",
      "Class 8: 6.94%\n",
      "Class 9: 5.52%\n",
      "Class 10: 2.53%\n",
      "Class 11: 13.52%\n",
      "Class 12: 14.60%\n",
      "Class 13: 9.21%\n",
      "Class 14: 4.99%\n",
      "Class 15: 3.17%\n",
      "Class 16: 11.61%\n",
      "Class 17: 7.59%\n",
      "Class 18: 3.03%\n",
      "Class 19: 4.18%\n",
      "\n",
      "Test Set Class Distribution (%):\n",
      "Class 0: 2.83%\n",
      "Class 1: 10.60%\n",
      "Class 2: 2.41%\n",
      "Class 3: 3.53%\n",
      "Class 4: 2.72%\n",
      "Class 5: 11.90%\n",
      "Class 6: 5.59%\n",
      "Class 7: 4.98%\n",
      "Class 8: 6.90%\n",
      "Class 9: 5.56%\n",
      "Class 10: 2.53%\n",
      "Class 11: 13.62%\n",
      "Class 12: 14.54%\n",
      "Class 13: 9.30%\n",
      "Class 14: 5.00%\n",
      "Class 15: 3.13%\n",
      "Class 16: 11.62%\n",
      "Class 17: 7.58%\n",
      "Class 18: 3.02%\n",
      "Class 19: 4.30%\n"
     ]
    }
   ],
   "source": [
    "import numpy as np \n",
    "\n",
    "# Step 1: Sum up the one-hot encoded vectors to get the count for each class\n",
    "train_class_counts = np.sum(y_train, axis=0)\n",
    "test_class_counts = np.sum(y_test, axis=0)\n",
    "\n",
    "# Step 2: Calculate the percentage distribution for each class\n",
    "total_train_instances = y_train.shape[0]\n",
    "total_test_instances = y_test.shape[0]\n",
    "\n",
    "train_class_distribution = train_class_counts / total_train_instances * 100\n",
    "test_class_distribution = test_class_counts / total_test_instances * 100\n",
    "\n",
    "# Print the distributions\n",
    "print(\"Train Set Class Distribution (%):\")\n",
    "for class_idx, percentage in enumerate(train_class_distribution):\n",
    "    print(f\"Class {class_idx}: {percentage:.2f}%\")\n",
    "\n",
    "print(\"\\nTest Set Class Distribution (%):\")\n",
    "for class_idx, percentage in enumerate(test_class_distribution):\n",
    "    print(f\"Class {class_idx}: {percentage:.2f}%\")"
   ]
  },
  {
   "cell_type": "code",
   "execution_count": 20,
   "id": "2035f834",
   "metadata": {},
   "outputs": [],
   "source": [
    "X_val, X_test, y_val, y_test = train_test_split(X, y, test_size=test_ratio/(test_ratio + val_ratio), random_state=0)"
   ]
  },
  {
   "cell_type": "code",
   "execution_count": 21,
   "id": "6642e41c",
   "metadata": {},
   "outputs": [
    {
     "name": "stdout",
     "output_type": "stream",
     "text": [
      "Train Set Class Distribution (%):\n",
      "Class 0: 2.82%\n",
      "Class 1: 10.69%\n",
      "Class 2: 2.39%\n",
      "Class 3: 3.49%\n",
      "Class 4: 2.72%\n",
      "Class 5: 11.87%\n",
      "Class 6: 5.56%\n",
      "Class 7: 4.95%\n",
      "Class 8: 6.92%\n",
      "Class 9: 5.51%\n",
      "Class 10: 2.54%\n",
      "Class 11: 13.49%\n",
      "Class 12: 14.57%\n",
      "Class 13: 9.23%\n",
      "Class 14: 4.98%\n",
      "Class 15: 3.18%\n",
      "Class 16: 11.62%\n",
      "Class 17: 7.66%\n",
      "Class 18: 3.04%\n",
      "Class 19: 4.18%\n",
      "\n",
      "Test Set Class Distribution (%):\n",
      "Class 0: 2.84%\n",
      "Class 1: 10.61%\n",
      "Class 2: 2.39%\n",
      "Class 3: 3.56%\n",
      "Class 4: 2.74%\n",
      "Class 5: 11.91%\n",
      "Class 6: 5.62%\n",
      "Class 7: 4.99%\n",
      "Class 8: 6.94%\n",
      "Class 9: 5.54%\n",
      "Class 10: 2.53%\n",
      "Class 11: 13.59%\n",
      "Class 12: 14.60%\n",
      "Class 13: 9.23%\n",
      "Class 14: 5.00%\n",
      "Class 15: 3.15%\n",
      "Class 16: 11.60%\n",
      "Class 17: 7.52%\n",
      "Class 18: 3.02%\n",
      "Class 19: 4.23%\n"
     ]
    }
   ],
   "source": [
    "import numpy as np \n",
    "\n",
    "# Step 1: Sum up the one-hot encoded vectors to get the count for each class\n",
    "val_class_counts = np.sum(y_val, axis=0)\n",
    "test_class_counts = np.sum(y_test, axis=0)\n",
    "\n",
    "# Step 2: Calculate the percentage distribution for each class\n",
    "total_val_instances = y_val.shape[0]\n",
    "total_test_instances = y_test.shape[0]\n",
    "\n",
    "val_class_distribution = val_class_counts / total_val_instances * 100\n",
    "test_class_distribution = test_class_counts / total_test_instances * 100\n",
    "\n",
    "# Print the distributions\n",
    "print(\"Train Set Class Distribution (%):\")\n",
    "for class_idx, percentage in enumerate(val_class_distribution):\n",
    "    print(f\"Class {class_idx}: {percentage:.2f}%\")\n",
    "\n",
    "print(\"\\nTest Set Class Distribution (%):\")\n",
    "for class_idx, percentage in enumerate(test_class_distribution):\n",
    "    print(f\"Class {class_idx}: {percentage:.2f}%\")"
   ]
  },
  {
   "cell_type": "markdown",
   "id": "63b0978a",
   "metadata": {},
   "source": [
    "### Preprocess the data for LLM"
   ]
  },
  {
   "cell_type": "code",
   "execution_count": 22,
   "id": "94e7d16d",
   "metadata": {},
   "outputs": [
    {
     "name": "stderr",
     "output_type": "stream",
     "text": [
      "C:\\Users\\sotir\\anaconda3\\envs\\thesis-pytorch\\lib\\site-packages\\tqdm\\auto.py:22: TqdmWarning: IProgress not found. Please update jupyter and ipywidgets. See https://ipywidgets.readthedocs.io/en/stable/user_install.html\n",
      "  from .autonotebook import tqdm as notebook_tqdm\n"
     ]
    }
   ],
   "source": [
    "from transformers import AutoTokenizer"
   ]
  },
  {
   "cell_type": "code",
   "execution_count": 23,
   "id": "b63e7eb6",
   "metadata": {},
   "outputs": [],
   "source": [
    "tokenizer = AutoTokenizer.from_pretrained(\"bert-base-cased\")"
   ]
  },
  {
   "cell_type": "markdown",
   "id": "d0abd8c7",
   "metadata": {},
   "source": [
    "#### Revisit our data"
   ]
  },
  {
   "cell_type": "code",
   "execution_count": 24,
   "id": "99526362",
   "metadata": {},
   "outputs": [],
   "source": [
    "y_train = y_train.tolist()\n",
    "y_train = pd.DataFrame({\"tags\": y_train})\n",
    "\n",
    "y_val = y_val.tolist()\n",
    "y_val = pd.DataFrame({\"tags\": y_val})\n",
    "\n",
    "y_test = y_test.tolist()\n",
    "y_test = pd.DataFrame({\"tags\": y_test})\n",
    "\n",
    "X_train = X_train.reset_index()\n",
    "X_train = X_train.drop('index', axis=1)\n",
    "\n",
    "X_val = X_val.reset_index()\n",
    "X_val = X_val.drop('index', axis=1)\n",
    "\n",
    "X_test = X_test.reset_index()\n",
    "X_test = X_test.drop('index', axis=1)\n",
    "\n",
    "train_data = pd.concat([(X_train.join(y_train))])\n",
    "val_data = pd.concat([(X_val.join(y_val))])\n",
    "test_data = pd.concat([(X_test.join(y_test))])"
   ]
  },
  {
   "cell_type": "markdown",
   "id": "4acf60a2",
   "metadata": {},
   "source": [
    "#### Tokenizing process uses ALL available RAM resources. I'm trying to do “all data at once”. Instead, need to chunk the data into batches and process them one by one."
   ]
  },
  {
   "cell_type": "code",
   "execution_count": 25,
   "id": "54faf86b",
   "metadata": {},
   "outputs": [],
   "source": [
    "def batched_encoding(text, tags, batch_size):\n",
    "    num_text = len(text)\n",
    "    batched_encodings = []\n",
    "    batched_tags = [] \n",
    "    for start in range(0, num_text, batch_size):\n",
    "        batch_texts = text[start:start + batch_size]\n",
    "        batch_tags = tags[start:start + batch_size]\n",
    "\n",
    "        batch_encodings = tokenizer(batch_texts, padding=True, truncation=True, return_tensors='pt')\n",
    "        batched_encodings.append(batch_encodings)\n",
    "        \n",
    "        batched_tags.append(batch_tags)\n",
    "    return batch_encodings, batch_tags"
   ]
  },
  {
   "cell_type": "code",
   "execution_count": 26,
   "id": "b7d9afd0",
   "metadata": {},
   "outputs": [],
   "source": [
    "X_train.rename(columns={'text': 'texts'}, inplace=True)\n",
    "X_val.rename(columns={'text': 'texts'}, inplace=True)\n",
    "X_test.rename(columns={'text': 'texts'}, inplace=True)"
   ]
  },
  {
   "cell_type": "code",
   "execution_count": 28,
   "id": "0ad63254",
   "metadata": {},
   "outputs": [],
   "source": [
    "import torch\n",
    "\n",
    "train_encodings, train_tags = batched_encoding(X_train['texts'].tolist(), y_train['tags'].tolist(), batch_size=16)"
   ]
  },
  {
   "cell_type": "code",
   "execution_count": null,
   "id": "1d5b1ac4",
   "metadata": {},
   "outputs": [],
   "source": [
    "input_train_encodings = {\n",
    "    'input_ids': torch.cat([batch['input_ids'] for batch in train_encodings], dim=0),\n",
    "    'attention_mask': torch.cat([batch['attention_mask'] for batch in train_encodings], dim=0),\n",
    "}\n",
    "tags_train_tensor = torch.tensor([tag for batch_tags in batched_tags for tag in train_tags])"
   ]
  },
  {
   "cell_type": "code",
   "execution_count": null,
   "id": "e7eed44c",
   "metadata": {},
   "outputs": [],
   "source": [
    "val_encodings, val_tags = batched_encoding(X_val['texts'].tolist(), y_val['tags'].tolist(), batch_size=16)\n",
    "\n",
    "input_val_encodings = {\n",
    "    'input_ids': torch.cat([batch['input_ids'] for batch in val_encodings], dim=0),\n",
    "    'attention_mask': torch.cat([batch['attention_mask'] for batch in val_encodings], dim=0),\n",
    "}\n",
    "tags_val_tensor = torch.tensor([tag for batch_tags in batched_tags for tag in val_tags])"
   ]
  },
  {
   "cell_type": "code",
   "execution_count": null,
   "id": "cc16cd74",
   "metadata": {},
   "outputs": [],
   "source": [
    "test_encodings, test_tags = batched_encoding(X_test['texts'].tolist(), y_test['tags'].tolist(), batch_size=16)\n",
    "\n",
    "input_test_encodings = {\n",
    "    'input_ids': torch.cat([batch['input_ids'] for batch in test_encodings], dim=0),\n",
    "    'attention_mask': torch.cat([batch['attention_mask'] for batch in test_encodings], dim=0),\n",
    "}\n",
    "tags_test_tensor = torch.tensor([tag for batch_tags in batched_tags for tag in test_tags])"
   ]
  },
  {
   "cell_type": "code",
   "execution_count": null,
   "id": "cb4fab67",
   "metadata": {},
   "outputs": [],
   "source": [
    "from torch.utils.data import Dataset\n",
    "\n",
    "class StackSampleDataset(Dataset):\n",
    "    def __init__(self, encodings, tags):\n",
    "        self.encodings = encodings\n",
    "        self.tags = tags\n",
    "\n",
    "    def __len__(self):\n",
    "        return len(self.encodings['input_ids'])\n",
    "\n",
    "    def __getitem__(self, idx):\n",
    "        item = {key: val[idx] for key, val in self.encodings.items()}\n",
    "        item['labels'] = self.tags[idx]\n",
    "        return item"
   ]
  },
  {
   "cell_type": "code",
   "execution_count": null,
   "id": "1e228975",
   "metadata": {},
   "outputs": [],
   "source": [
    "train_batch_size = 8\n",
    "eval_batch_size = 4"
   ]
  },
  {
   "cell_type": "code",
   "execution_count": null,
   "id": "4e05f6f1",
   "metadata": {},
   "outputs": [],
   "source": [
    "training_data = StackSampleDataset(train_encodings, train_tags)\n",
    "evaluation_data = StackSampleDataset(input_val_encodings, tags_val_tensor)\n",
    "testing_data = StackSampleDataset(input_test_encodings, tags_test_tensor)"
   ]
  },
  {
   "cell_type": "code",
   "execution_count": null,
   "id": "a26c92f7",
   "metadata": {},
   "outputs": [],
   "source": [
    "from torch.utils.data import DataLoader\n",
    "\n",
    "traindata_loader = DataLoader(training_data, batch_size=train_batch_size, shuffle=True)\n",
    "evaldata_loader = DataLoader(evaluation_data, batch_size=eval_batch_size, shuffle=True)\n",
    "testdata_loader = DataLoader(test_data, batch_size=eval_batch_size, shuffle=True)"
   ]
  },
  {
   "cell_type": "markdown",
   "id": "893a6b42",
   "metadata": {},
   "source": [
    "### Defining model and train"
   ]
  },
  {
   "cell_type": "code",
   "execution_count": null,
   "id": "7d59daa2",
   "metadata": {},
   "outputs": [],
   "source": [
    "from transformers import AutoModelForSequenceClassification\n",
    "\n",
    "model = AutoModelForSequenceClassification.from_pretrained(\"bert-base-cased\", num_labels=20)"
   ]
  },
  {
   "cell_type": "code",
   "execution_count": null,
   "id": "ed4816db",
   "metadata": {},
   "outputs": [],
   "source": [
    "from torch.optim import AdamW\n",
    "\n",
    "optimizer = AdamW(model.parameters(), lr=5e-5)"
   ]
  },
  {
   "cell_type": "code",
   "execution_count": null,
   "id": "195d425a",
   "metadata": {},
   "outputs": [],
   "source": [
    "from transformers import get_scheduler\n",
    "\n",
    "num_epochs = 3\n",
    "num_training_steps = num_epochs * len(traindata_loader)\n",
    "lr_scheduler = get_scheduler(\n",
    "    name=\"linear\", optimizer=optimizer, num_warmup_steps=0, num_training_steps=num_training_steps\n",
    ")"
   ]
  },
  {
   "cell_type": "code",
   "execution_count": null,
   "id": "a157fdae",
   "metadata": {},
   "outputs": [],
   "source": [
    "import torch\n",
    "\n",
    "device = torch.device(\"cuda\") if torch.cuda.is_available() else torch.device(\"cpu\")\n",
    "model.to(device)"
   ]
  },
  {
   "cell_type": "code",
   "execution_count": null,
   "id": "f66328ad",
   "metadata": {},
   "outputs": [],
   "source": [
    "from tqdm.auto import tqdm\n",
    "\n",
    "progress_bar = tqdm(range(num_training_steps))\n",
    "\n",
    "model.train()\n",
    "for epoch in range(num_epochs):\n",
    "    for batch in traindata_loader:\n",
    "        batch = {k: v.to(device) for k, v in batch.items()}\n",
    "        outputs = model(**batch)\n",
    "        loss = outputs.loss\n",
    "        loss.backward()\n",
    "\n",
    "        optimizer.step()\n",
    "        lr_scheduler.step()\n",
    "        optimizer.zero_grad()\n",
    "        progress_bar.update(1)"
   ]
  },
  {
   "cell_type": "markdown",
   "id": "bd827985",
   "metadata": {},
   "source": [
    "### Evaluate the model"
   ]
  },
  {
   "cell_type": "code",
   "execution_count": null,
   "id": "025d344f",
   "metadata": {},
   "outputs": [],
   "source": [
    "import evaluate\n",
    "\n",
    "precision = evaluate.load(\"precision\")\n",
    "recall = evaluate.load(\"recall\")\n",
    "f1-score = evaluate.load(\"f1-score\")\n",
    "model.eval()\n",
    "for batch in eval_dataloader:\n",
    "    batch = {k: v.to(device) for k, v in batch.items()}\n",
    "    with torch.no_grad():\n",
    "        outputs = model(**batch)\n",
    "\n",
    "    logits = outputs.logits\n",
    "    predictions = torch.argmax(logits, dim=-1)\n",
    "    metric.add_batch(predictions=predictions, references=batch[\"labels\"])\n",
    "\n",
    "precision.compute()\n",
    "recall.compute()\n",
    "f1-score.compute()"
   ]
  }
 ],
 "metadata": {
  "kernelspec": {
   "display_name": "Python 3 (ipykernel)",
   "language": "python",
   "name": "python3"
  },
  "language_info": {
   "codemirror_mode": {
    "name": "ipython",
    "version": 3
   },
   "file_extension": ".py",
   "mimetype": "text/x-python",
   "name": "python",
   "nbconvert_exporter": "python",
   "pygments_lexer": "ipython3",
   "version": "3.9.7"
  }
 },
 "nbformat": 4,
 "nbformat_minor": 5
}
